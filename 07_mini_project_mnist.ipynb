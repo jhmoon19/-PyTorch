{
 "cells": [
  {
   "cell_type": "markdown",
   "id": "10b7fdab",
   "metadata": {},
   "source": [
    "# 미니프로젝트: 나만의 딥러닝 모델로 Mnist Dataset 학습하기\n",
    "## <0-9 숫자 손글씨 인식 문제>"
   ]
  },
  {
   "cell_type": "markdown",
   "id": "503becc2",
   "metadata": {},
   "source": [
    "## 1. 패키지 불러오기 및 GUI 프로그램 작성"
   ]
  },
  {
   "cell_type": "code",
   "execution_count": 1,
   "id": "5ecc80c2",
   "metadata": {},
   "outputs": [],
   "source": [
    "import os\n",
    "\n",
    "# matplotlib 패키지 결과물을 노트북 실행 \n",
    "# 브라우저 안에 보일 수 있게 하는 명령어\n",
    "%matplotlib inline\n",
    "\n",
    "import numpy as np\n",
    "import torch\n",
    "import torch.nn as nn\n",
    "import torch.nn.functional as F\n",
    "import torch.optim as optim\n",
    "\n",
    "from torch.utils.data import DataLoader\n",
    "\n",
    "# mnist 내장된 torchvision 패키지에서 데이터셋 불러오기\n",
    "from torchvision import datasets, transforms\n",
    "\n",
    "# 손글씨 써볼 수 있는 GUI 프로그램\n",
    "\"\"\" 제공된 drawing.py 이용!! \"\"\"\n",
    "from drawing import Drawing\n",
    "# 그림 시각화 처리 패키지\n",
    "import matplotlib.pyplot as plt\n",
    "from PIL import Image\n",
    "\n",
    "def drawing_custom_number(preprocess, filepath=\"./figs\", return_img=True):\n",
    "    \"\"\" 손글씨 입력 GUI 미니 프로그램 \"\"\"\n",
    "    if (not os.path.isdir(\"figs\")) and (filepath == \"./figs\"):\n",
    "        os.mkdir(\"figs\")\n",
    "    draw = Drawing()\n",
    "    draw.main(preprocess=preprocess, filepath=filepath)\n",
    "    img = Image.open(draw.file)\n",
    "    plt.imshow(img, cmap='gray')\n",
    "    plt.show()\n",
    "    if return_img:\n",
    "        return img"
   ]
  },
  {
   "cell_type": "markdown",
   "id": "253c2cc1",
   "metadata": {},
   "source": [
    "## 2. 데이터 살펴보기"
   ]
  },
  {
   "cell_type": "code",
   "execution_count": 2,
   "id": "9d90c589",
   "metadata": {},
   "outputs": [
    {
     "name": "stdout",
     "output_type": "stream",
     "text": [
      "Target: 0\n",
      "Size of Image: (28, 28)\n"
     ]
    },
    {
     "data": {
      "image/png": "[encoded data removed]",
      "text/plain": [
       "<Figure size 640x480 with 1 Axes>"
      ]
     },
     "metadata": {},
     "output_type": "display_data"
    }
   ],
   "source": [
    "torch.manual_seed(70)\n",
    "\n",
    "train_dataset = datasets.MNIST(root='./data', # 데이터 경로\n",
    "                              train=True,     # 훈련데이터 여부\n",
    "                              download=True,  # 기존에 없으면 root경로에 다운로드\n",
    "                              transform=transforms.ToTensor()) # 텐서로 바꾸는 전처리\n",
    "\n",
    "test_dataset = datasets.MNIST(root='./data',\n",
    "                             train=False,\n",
    "                             transform=transforms.ToTensor())\n",
    "\n",
    "# 데이터 살펴보기: 훈련데이터 중 임의의 데이터 골라서 보여줌\n",
    "idx = torch.randint(0, len(train_dataset), (1,)).item()\n",
    "random_image = train_dataset[idx][0].squeeze().numpy()\n",
    "target_num = train_dataset[idx][1]\n",
    "print(\"Target: {}\".format(target_num))\n",
    "print(\"Size of Image: {}\".format(random_image.shape))\n",
    "plt.imshow(random_image, cmap='gray')\n",
    "plt.axis('off')\n",
    "plt.show()"
   ]
  },
  {
   "cell_type": "markdown",
   "id": "eb6a47fa",
   "metadata": {},
   "source": [
    "## [MNIST Dataset]\n",
    "- 인공지능 연구 권위자 LeCun 교수님께서 만드심.\n",
    "- 딥러닝을 공부할 때 반드시 거쳐야하는 존재\n",
    "- 6만개의 학습데이터, 1만개의 검증데이터\n",
    "- 간단한 컴퓨터 비전 데이터 세트\n",
    "- 0~1 정규화된 28\\*28 픽셀, 중앙 정렬\n",
    "- 각 이미지는 평평하게 784 feature의 1D numpy 배열로 변환됨."
   ]
  },
  {
   "cell_type": "markdown",
   "id": "ed1088f2",
   "metadata": {},
   "source": [
    "## 3. 데이터로더 정의하기"
   ]
  },
  {
   "cell_type": "code",
   "execution_count": 3,
   "id": "fd3f65b9",
   "metadata": {},
   "outputs": [
    {
     "name": "stdout",
     "output_type": "stream",
     "text": [
      "torch.Size([64, 1, 28, 28])\n",
      "torch.Size([64])\n"
     ]
    }
   ],
   "source": [
    "BATCH = 64\n",
    "DEVICE = 'cuda' if torch.cuda.is_available() else 'cpu'\n",
    "STEP = 10\n",
    "\n",
    "train_loader = DataLoader(dataset=train_dataset,\n",
    "                         batch_size=BATCH,\n",
    "                         shuffle=True)\n",
    "\n",
    "test_loader = DataLoader(dataset=test_dataset,\n",
    "                        batch_size=BATCH,\n",
    "                        shuffle=True)\n",
    "\n",
    "for (data, target) in train_loader:\n",
    "    print(data.size(), target.size(), sep='\\n')\n",
    "    break"
   ]
  },
  {
   "cell_type": "markdown",
   "id": "4261d493",
   "metadata": {},
   "source": [
    "## 4. 모델, 손실함수 및 옵티마이저 정의"
   ]
  },
  {
   "cell_type": "code",
   "execution_count": 4,
   "id": "771e8e37",
   "metadata": {},
   "outputs": [],
   "source": [
    "class Net(nn.Module):\n",
    "    def __init__(self, input_size, hidden_size, output_size):\n",
    "        super(Net, self).__init__()\n",
    "        self.flatten = lambda x: x.view(x.size(0), -1)\n",
    "        self.linear1 = nn.Linear(input_size, hidden_size)\n",
    "        self.linear2 = nn.Linear(hidden_size, hidden_size)        \n",
    "        self.linear3 = nn.Linear(hidden_size, output_size)        \n",
    "        self.relu = nn.ReLU()\n",
    "        \n",
    "    def forward(self, x):\n",
    "        x = self.flatten(x)\n",
    "        x = self.linear1(x)\n",
    "        x = self.relu(x)\n",
    "        x = self.linear2(x)\n",
    "        x = self.relu(x)\n",
    "        x = self.linear3(x)\n",
    "        return x"
   ]
  },
  {
   "cell_type": "markdown",
   "id": "1d7a1b37",
   "metadata": {},
   "source": [
    "### 4-1. 모델 선언"
   ]
  },
  {
   "cell_type": "code",
   "execution_count": 5,
   "id": "05068714",
   "metadata": {},
   "outputs": [],
   "source": [
    "model = Net(input_size=28*28, hidden_size=100, output_size=10).to(DEVICE)\n",
    "# .to(DEVICE): 'cuda' 혹은 'cpu' 문자열을 모델에게 전달해서, GPU 사용 여부 결정"
   ]
  },
  {
   "cell_type": "markdown",
   "id": "bc9286a8",
   "metadata": {},
   "source": [
    "### 4-2. 손실함수, 옵티마이저 선언"
   ]
  },
  {
   "cell_type": "code",
   "execution_count": 6,
   "id": "1b9cea4b",
   "metadata": {},
   "outputs": [
    {
     "name": "stdout",
     "output_type": "stream",
     "text": [
      "Total number of parameters: 89610\n"
     ]
    }
   ],
   "source": [
    "loss_function = nn.CrossEntropyLoss()\n",
    "optimizer = optim.Adam(model.parameters())\n",
    "\n",
    "# 매개변수 개수 확인\n",
    "num_params = 0\n",
    "for params in model.parameters():\n",
    "    num_params += params.view(-1).size(0)\n",
    "print(\"Total number of parameters: {}\".format(num_params))"
   ]
  },
  {
   "cell_type": "markdown",
   "id": "324c0dff",
   "metadata": {},
   "source": [
    "## 5. 학습 및 테스트"
   ]
  },
  {
   "cell_type": "code",
   "execution_count": 7,
   "id": "80e68a4c",
   "metadata": {},
   "outputs": [],
   "source": [
    "def train(model, train_loader, loss_func, optimizer, step, device, print_step=200):\n",
    "    \"\"\" 1스텝 동안 발생하는 학습과정 \"\"\"\n",
    "    \n",
    "    # 모델에게 훈련단계라고 선언\n",
    "    model.train()\n",
    "    \n",
    "    for batch_idx, (data,target) in enumerate(train_loader):\n",
    "        # 1) 입력과 타겟 텐서에 GPU 사용여부 전달\n",
    "        data, target = data.to(device), target.to(device)\n",
    "        # 2) 경사 초기화\n",
    "        model.zero_grad()\n",
    "        # 3) 순방향 전파\n",
    "        output = model(data)\n",
    "        # 4) 손실값 계산\n",
    "        loss = loss_func(output, target)\n",
    "        # 5) 역방향 전파\n",
    "        loss.backward()\n",
    "        # 6) 매개변수 업데이트\n",
    "        optimizer.step()\n",
    "        \n",
    "        # 중간과정 print\n",
    "        if batch_idx % print_step == 0:\n",
    "            print(\"Train Step: {} ({:05.2f}%)  \\tLoss: {:.4f}\".format(step,\n",
    "            100.*(batch_idx*train_loader.batch_size)/len(train_loader.dataset),\n",
    "                                                                loss.item()))\n",
    "            \n",
    "def test(model, test_loader, loss_func, device):\n",
    "    # 모델에게 평가단계라고 선언\n",
    "    model.eval()\n",
    "    test_loss = 0\n",
    "    correct = 0\n",
    "    \n",
    "    with torch.no_grad():\n",
    "        for data,target in test_loader:\n",
    "            data, target = data.to(device), target.to(device)\n",
    "            # 1) 순방향전파\n",
    "            output = model(data)\n",
    "            # 2) 손실 계산 (합)\n",
    "            test_loss += loss_func(output, target, reduction='sum').item()\n",
    "            # 3) 예측값에 해당하는 클래스 번호 반환\n",
    "            pred = output.softmax(1).argmax(dim=1, keepdim=True)\n",
    "            # 4) 정확하게 예측한 개수 기록\n",
    "            correct += pred.eq(target.view_as(pred)).sum().item()\n",
    "            \n",
    "    test_loss /= len(test_loader.dataset)\n",
    "    test_acc = correct / len(test_loader.dataset)\n",
    "    \n",
    "    print(\"Test set: Average loss: {:.4f}, Accuracy: {}/{} ({:05.2f}%)\".format(\\\n",
    "        test_loss, correct, len(test_loader.dataset), 100.*test_acc))\n",
    "    \n",
    "    return test_loss, test_acc\n",
    "\n",
    "def main(model, train_loader, test_loader, loss_func, optimizer, n_step, device,\n",
    "        save_path=None, print_step=200):\n",
    "    \"\"\" 메인 학습 함수 \"\"\"\n",
    "    test_accs = []\n",
    "    best_acc = 0.0\n",
    "    \n",
    "    for step in range(1, n_step+1):\n",
    "        # 훈련\n",
    "        train(model, train_loader, loss_func, optimizer,\n",
    "             step=step, device=device, print_step=print_step)\n",
    "        # 평가\n",
    "        test_loss, test_acc = test(model, test_loader,\n",
    "                                  loss_func = F.cross_entropy,\n",
    "                                  device=device)\n",
    "        \n",
    "        # 테스트 정확도 기록\n",
    "        test_accs.append(test_acc)\n",
    "        \n",
    "        # 모델 최적의 매개변수값을 저장할지 결정하고, 기록\n",
    "        if len(test_accs) >= 2:\n",
    "            if test_acc >= best_acc:\n",
    "                best_acc = test_acc\n",
    "                best_state_dict = model.state_dict()\n",
    "                print(\"discard previous state, best model state saved!\")\n",
    "        print(\"\")\n",
    "        \n",
    "    # 매개변수 값 저장\n",
    "    if save_path is not None:\n",
    "        torch.save(best_state_dict, save_path)"
   ]
  },
  {
   "cell_type": "markdown",
   "id": "afa8a69a",
   "metadata": {},
   "source": [
    "### 학습 시작"
   ]
  },
  {
   "cell_type": "code",
   "execution_count": 8,
   "id": "67f6fd21",
   "metadata": {},
   "outputs": [
    {
     "name": "stdout",
     "output_type": "stream",
     "text": [
      "Train Step: 1 (00.00%)  \tLoss: 2.3013\n",
      "Train Step: 1 (21.33%)  \tLoss: 0.2655\n",
      "Train Step: 1 (42.67%)  \tLoss: 0.3571\n",
      "Train Step: 1 (64.00%)  \tLoss: 0.2010\n",
      "Train Step: 1 (85.33%)  \tLoss: 0.2346\n",
      "Test set: Average loss: 0.1893, Accuracy: 9419/10000 (94.19%)\n",
      "\n",
      "Train Step: 2 (00.00%)  \tLoss: 0.0604\n",
      "Train Step: 2 (21.33%)  \tLoss: 0.1508\n",
      "Train Step: 2 (42.67%)  \tLoss: 0.0415\n",
      "Train Step: 2 (64.00%)  \tLoss: 0.0584\n",
      "Train Step: 2 (85.33%)  \tLoss: 0.2859\n",
      "Test set: Average loss: 0.1229, Accuracy: 9624/10000 (96.24%)\n",
      "discard previous state, best model state saved!\n",
      "\n",
      "Train Step: 3 (00.00%)  \tLoss: 0.1770\n",
      "Train Step: 3 (21.33%)  \tLoss: 0.1353\n",
      "Train Step: 3 (42.67%)  \tLoss: 0.0814\n",
      "Train Step: 3 (64.00%)  \tLoss: 0.0401\n",
      "Train Step: 3 (85.33%)  \tLoss: 0.1208\n",
      "Test set: Average loss: 0.1033, Accuracy: 9685/10000 (96.85%)\n",
      "discard previous state, best model state saved!\n",
      "\n",
      "Train Step: 4 (00.00%)  \tLoss: 0.0458\n",
      "Train Step: 4 (21.33%)  \tLoss: 0.0174\n",
      "Train Step: 4 (42.67%)  \tLoss: 0.1234\n",
      "Train Step: 4 (64.00%)  \tLoss: 0.0110\n",
      "Train Step: 4 (85.33%)  \tLoss: 0.1150\n",
      "Test set: Average loss: 0.0883, Accuracy: 9729/10000 (97.29%)\n",
      "discard previous state, best model state saved!\n",
      "\n",
      "Train Step: 5 (00.00%)  \tLoss: 0.0094\n",
      "Train Step: 5 (21.33%)  \tLoss: 0.0074\n",
      "Train Step: 5 (42.67%)  \tLoss: 0.0414\n",
      "Train Step: 5 (64.00%)  \tLoss: 0.0267\n",
      "Train Step: 5 (85.33%)  \tLoss: 0.0172\n",
      "Test set: Average loss: 0.0841, Accuracy: 9743/10000 (97.43%)\n",
      "discard previous state, best model state saved!\n",
      "\n",
      "Train Step: 6 (00.00%)  \tLoss: 0.0081\n",
      "Train Step: 6 (21.33%)  \tLoss: 0.1204\n",
      "Train Step: 6 (42.67%)  \tLoss: 0.0598\n",
      "Train Step: 6 (64.00%)  \tLoss: 0.0697\n",
      "Train Step: 6 (85.33%)  \tLoss: 0.0512\n",
      "Test set: Average loss: 0.0859, Accuracy: 9739/10000 (97.39%)\n",
      "\n",
      "Train Step: 7 (00.00%)  \tLoss: 0.0806\n",
      "Train Step: 7 (21.33%)  \tLoss: 0.0218\n",
      "Train Step: 7 (42.67%)  \tLoss: 0.0043\n",
      "Train Step: 7 (64.00%)  \tLoss: 0.0236\n",
      "Train Step: 7 (85.33%)  \tLoss: 0.0357\n",
      "Test set: Average loss: 0.0794, Accuracy: 9770/10000 (97.70%)\n",
      "discard previous state, best model state saved!\n",
      "\n",
      "Train Step: 8 (00.00%)  \tLoss: 0.0170\n",
      "Train Step: 8 (21.33%)  \tLoss: 0.0087\n",
      "Train Step: 8 (42.67%)  \tLoss: 0.0561\n",
      "Train Step: 8 (64.00%)  \tLoss: 0.0202\n",
      "Train Step: 8 (85.33%)  \tLoss: 0.0234\n",
      "Test set: Average loss: 0.0834, Accuracy: 9767/10000 (97.67%)\n",
      "\n",
      "Train Step: 9 (00.00%)  \tLoss: 0.0133\n",
      "Train Step: 9 (21.33%)  \tLoss: 0.0345\n",
      "Train Step: 9 (42.67%)  \tLoss: 0.0068\n",
      "Train Step: 9 (64.00%)  \tLoss: 0.0019\n",
      "Train Step: 9 (85.33%)  \tLoss: 0.0034\n",
      "Test set: Average loss: 0.0824, Accuracy: 9782/10000 (97.82%)\n",
      "discard previous state, best model state saved!\n",
      "\n",
      "Train Step: 10 (00.00%)  \tLoss: 0.0158\n",
      "Train Step: 10 (21.33%)  \tLoss: 0.0048\n",
      "Train Step: 10 (42.67%)  \tLoss: 0.0219\n",
      "Train Step: 10 (64.00%)  \tLoss: 0.0598\n",
      "Train Step: 10 (85.33%)  \tLoss: 0.0034\n",
      "Test set: Average loss: 0.0904, Accuracy: 9754/10000 (97.54%)\n",
      "\n"
     ]
    }
   ],
   "source": [
    "main(model=model,\n",
    "    train_loader=train_loader,\n",
    "    test_loader=test_loader,\n",
    "    loss_func=loss_function,\n",
    "    optimizer=optimizer,\n",
    "    n_step=STEP,\n",
    "    device=DEVICE,\n",
    "    save_path=\"mnist_model.pt\",\n",
    "    print_step=200)"
   ]
  },
  {
   "cell_type": "markdown",
   "id": "82f11df2",
   "metadata": {},
   "source": [
    "# 6. 내가 그린 손글씨로 테스트"
   ]
  },
  {
   "cell_type": "code",
   "execution_count": 9,
   "id": "e41fd130",
   "metadata": {},
   "outputs": [
    {
     "name": "stdout",
     "output_type": "stream",
     "text": [
      "file saved ./figs\\num_img.png\n"
     ]
    },
    {
     "data": {
      "image/png": "[encoded data removed]",
      "text/plain": [
       "<Figure size 640x480 with 1 Axes>"
      ]
     },
     "metadata": {},
     "output_type": "display_data"
    }
   ],
   "source": [
    "img = drawing_custom_number(preprocess=True, return_img=True)"
   ]
  },
  {
   "cell_type": "code",
   "execution_count": 10,
   "id": "b39b7db5",
   "metadata": {},
   "outputs": [
    {
     "name": "stdout",
     "output_type": "stream",
     "text": [
      "Predicted number is 5.\n"
     ]
    }
   ],
   "source": [
    "# 내가 그린 이미지를 (1,28,28) 크기 텐서로 바꿔줌\n",
    "test_input = torch.Tensor(np.array(img)).unsqueeze(0).to(DEVICE)\n",
    "pred = model(test_input)\n",
    "print(\"Predicted number is {}.\".format(pred.softmax(1).argmax().item()))"
   ]
  },
  {
   "cell_type": "code",
   "execution_count": 11,
   "id": "c8b2f3a2",
   "metadata": {},
   "outputs": [
    {
     "data": {
      "text/plain": [
       "tensor([[ -955.0872, -1143.5399,  -857.5981,   250.9672, -1120.6174,   597.0349,\n",
       "         -1418.8156,  -919.2238,    23.1948,   453.6948]],\n",
       "       grad_fn=<AddmmBackward0>)"
      ]
     },
     "execution_count": 11,
     "metadata": {},
     "output_type": "execute_result"
    }
   ],
   "source": [
    "pred"
   ]
  },
  {
   "cell_type": "code",
   "execution_count": 17,
   "id": "da36133c",
   "metadata": {},
   "outputs": [
    {
     "data": {
      "text/plain": [
       "tensor([[0., 0., 0., 0., 0., 1., 0., 0., 0., 0.]], grad_fn=<SoftmaxBackward0>)"
      ]
     },
     "execution_count": 17,
     "metadata": {},
     "output_type": "execute_result"
    }
   ],
   "source": [
    "pred.softmax(1)"
   ]
  },
  {
   "cell_type": "code",
   "execution_count": 18,
   "id": "84d631c8",
   "metadata": {},
   "outputs": [
    {
     "data": {
      "image/png": "[encoded data removed]",
      "text/plain": [
       "<PIL.PngImagePlugin.PngImageFile image mode=L size=28x28>"
      ]
     },
     "execution_count": 18,
     "metadata": {},
     "output_type": "execute_result"
    }
   ],
   "source": [
    "img"
   ]
  }
 ],
 "metadata": {
  "kernelspec": {
   "display_name": "Python 3 (ipykernel)",
   "language": "python",
   "name": "python3"
  },
  "language_info": {
   "codemirror_mode": {
    "name": "ipython",
    "version": 3
   },
   "file_extension": ".py",
   "mimetype": "text/x-python",
   "name": "python",
   "nbconvert_exporter": "python",
   "pygments_lexer": "ipython3",
   "version": "3.9.13"
  }
 },
 "nbformat": 4,
 "nbformat_minor": 5
}
