{
 "cells": [
  {
   "cell_type": "code",
   "execution_count": 1,
   "id": "considerable-glenn",
   "metadata": {},
   "outputs": [
    {
     "name": "stdout",
     "output_type": "stream",
     "text": [
      "torch: 1.13.1+cpu \n",
      " numpy: 1.22.3\n",
      "USE GPU? False\n"
     ]
    }
   ],
   "source": [
    "import matplotlib.pyplot as plt\n",
    "import numpy as np\n",
    "import torch\n",
    "\n",
    "print(\"torch: {} \\n numpy: {}\".format(torch.__version__, np.__version__))\n",
    "print(\"USE GPU? {}\".format(torch.cuda.is_available()))"
   ]
  },
  {
   "cell_type": "markdown",
   "id": "concrete-broadcasting",
   "metadata": {},
   "source": [
    "# 텐서를 만드는 방법"
   ]
  },
  {
   "cell_type": "code",
   "execution_count": 2,
   "id": "egyptian-virginia",
   "metadata": {},
   "outputs": [
    {
     "name": "stdout",
     "output_type": "stream",
     "text": [
      "tensor([[1., 2., 3.],\n",
      "        [4., 5., 6.]])\n",
      "tensor([[1., 2., 3.],\n",
      "        [4., 5., 6.]])\n"
     ]
    }
   ],
   "source": [
    "# 리스트로부터 2*3 텐서 생성 \n",
    "x_list = [[1,2,3], [4,5,6]]\n",
    "x = torch.Tensor(x_list)\n",
    "print(x)\n",
    "\n",
    "# numpy array 로부터 2*3 텐서 생성\n",
    "x_numpy = np.array([[1,2,3], [4,5,6]])\n",
    "x = torch.Tensor(x_numpy)\n",
    "print(x)"
   ]
  },
  {
   "cell_type": "markdown",
   "id": "unexpected-female",
   "metadata": {},
   "source": [
    "## 다시 원래 자료형태로 복귀"
   ]
  },
  {
   "cell_type": "code",
   "execution_count": 3,
   "id": "happy-rider",
   "metadata": {},
   "outputs": [
    {
     "name": "stdout",
     "output_type": "stream",
     "text": [
      "[[1.0, 2.0, 3.0], [4.0, 5.0, 6.0]]\n",
      "<class 'list'>\n",
      "[[1. 2. 3.]\n",
      " [4. 5. 6.]]\n",
      "<class 'numpy.ndarray'>\n",
      "tensor([[1., 2., 3.],\n",
      "        [4., 5., 6.]])\n"
     ]
    }
   ],
   "source": [
    "x_back2list = x.tolist()\n",
    "print(x_back2list)\n",
    "print(type(x_back2list))\n",
    "\n",
    "x_back2numpy = x.numpy()\n",
    "print(x_back2numpy)\n",
    "print(type(x_back2numpy))\n",
    "\n",
    "print(x) # 해당 텐서 x는 그대로"
   ]
  }
 ],
 "metadata": {
  "kernelspec": {
   "display_name": "Python 3",
   "language": "python",
   "name": "python3"
  },
  "language_info": {
   "codemirror_mode": {
    "name": "ipython",
    "version": 3
   },
   "file_extension": ".py",
   "mimetype": "text/x-python",
   "name": "python",
   "nbconvert_exporter": "python",
   "pygments_lexer": "ipython3",
   "version": "3.9.2"
  }
 },
 "nbformat": 4,
 "nbformat_minor": 5
}
