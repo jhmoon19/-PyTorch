{
 "cells": [
  {
   "cell_type": "code",
   "execution_count": 2,
   "id": "municipal-geometry",
   "metadata": {},
   "outputs": [
    {
     "name": "stdout",
     "output_type": "stream",
     "text": [
      "torch: 1.13.1+cpu \n",
      " numpy: 1.22.3\n",
      "USE GPU? False\n"
     ]
    }
   ],
   "source": [
    "import matplotlib.pyplot as plt\n",
    "import numpy as np\n",
    "import torch\n",
    "\n",
    "print(\"torch: {} \\n numpy: {}\".format(torch.__version__, np.__version__))\n",
    "print(\"USE GPU? {}\".format(torch.cuda.is_available()))"
   ]
  },
  {
   "cell_type": "markdown",
   "id": "closing-reset",
   "metadata": {},
   "source": [
    "# 텐서를 만드는 방법"
   ]
  },
  {
   "cell_type": "code",
   "execution_count": 3,
   "id": "ideal-singapore",
   "metadata": {},
   "outputs": [
    {
     "name": "stdout",
     "output_type": "stream",
     "text": [
      "tensor([[1., 2., 3.],\n",
      "        [4., 5., 6.]])\n",
      "tensor([[1., 2., 3.],\n",
      "        [4., 5., 6.]])\n"
     ]
    }
   ],
   "source": [
    "# 리스트로부터 2*3 텐서 생성 \n",
    "x_list = [[1,2,3], [4,5,6]]\n",
    "x = torch.Tensor(x_list)\n",
    "print(x)\n",
    "\n",
    "# numpy array 로부터 2*3 텐서 생성\n",
    "x_numpy = np.array([[1,2,3], [4,5,6]])\n",
    "x = torch.Tensor(x_numpy)\n",
    "print(x)"
   ]
  },
  {
   "cell_type": "markdown",
   "id": "genuine-copying",
   "metadata": {},
   "source": [
    "## 다시 원래 자료형태로 복귀"
   ]
  },
  {
   "cell_type": "code",
   "execution_count": 4,
   "id": "official-knitting",
   "metadata": {},
   "outputs": [
    {
     "name": "stdout",
     "output_type": "stream",
     "text": [
      "[[1.0, 2.0, 3.0], [4.0, 5.0, 6.0]]\n",
      "<class 'list'>\n",
      "[[1. 2. 3.]\n",
      " [4. 5. 6.]]\n",
      "<class 'numpy.ndarray'>\n",
      "tensor([[1., 2., 3.],\n",
      "        [4., 5., 6.]])\n"
     ]
    }
   ],
   "source": [
    "x_back2list = x.tolist()\n",
    "print(x_back2list)\n",
    "print(type(x_back2list))\n",
    "\n",
    "x_back2numpy = x.numpy()\n",
    "print(x_back2numpy)\n",
    "print(type(x_back2numpy))\n",
    "\n",
    "print(x) # 해당 텐서 x는 그대로"
   ]
  },
  {
   "cell_type": "markdown",
   "id": "broadband-running",
   "metadata": {},
   "source": [
    "## GPU 사용하기"
   ]
  },
  {
   "cell_type": "code",
   "execution_count": 8,
   "id": "eight-result",
   "metadata": {},
   "outputs": [
    {
     "name": "stdout",
     "output_type": "stream",
     "text": [
      "cpu\n",
      "cpu\n",
      "tensor([[1., 2., 3.],\n",
      "        [4., 5., 6.]])\n"
     ]
    }
   ],
   "source": [
    "# 기본 device 정보 \n",
    "print(x.device)  # cpu\n",
    "\n",
    "device = 'cpu'\n",
    "x = x.to(device)\n",
    "print(x.device)\n",
    "print(x)"
   ]
  },
  {
   "cell_type": "markdown",
   "id": "computational-surgery",
   "metadata": {},
   "source": [
    "## 랜덤 텐서 생성"
   ]
  },
  {
   "cell_type": "code",
   "execution_count": 10,
   "id": "subjective-proxy",
   "metadata": {},
   "outputs": [
    {
     "name": "stdout",
     "output_type": "stream",
     "text": [
      "tensor([[0.9326, 0.0010, 0.7684],\n",
      "        [0.8439, 0.3207, 0.7850]])\n",
      "tensor([[3, 6, 3],\n",
      "        [4, 7, 5]])\n"
     ]
    }
   ],
   "source": [
    "# 랜덤 숫자로 구성된 크기가 2*3인 텐서 생성\n",
    "# 0과 1사이의 랜덤한 숫자\n",
    "print(torch.rand(2,3))\n",
    "\n",
    "# 0과 8 사이의 정수형 랜덤한 숫자\n",
    "print(torch.randint(low=0, high=8, size=(2,3)))"
   ]
  },
  {
   "cell_type": "markdown",
   "id": "stock-comparative",
   "metadata": {},
   "source": [
    "## 0으로 채워진 텐서 "
   ]
  },
  {
   "cell_type": "code",
   "execution_count": 14,
   "id": "removed-causing",
   "metadata": {},
   "outputs": [
    {
     "name": "stdout",
     "output_type": "stream",
     "text": [
      "cpu\n",
      "tensor([[0., 0., 0.],\n",
      "        [0., 0., 0.]])\n",
      "tensor([[1., 1., 1.],\n",
      "        [1., 1., 1.]])\n"
     ]
    }
   ],
   "source": [
    "# zeros_like() : 해당 함수 크기, 자료형, GPU 정보까지 복사\n",
    "x_zeros = torch.zeros_like(x.cpu())\n",
    "print(x_zeros.device)\n",
    "print(x_zeros)\n",
    "\n",
    "print(torch.ones((2,3)))"
   ]
  },
  {
   "cell_type": "markdown",
   "id": "sticky-necklace",
   "metadata": {},
   "source": [
    "# 텐서의 타입"
   ]
  },
  {
   "cell_type": "code",
   "execution_count": 15,
   "id": "roman-slovak",
   "metadata": {},
   "outputs": [
    {
     "name": "stdout",
     "output_type": "stream",
     "text": [
      "torch.FloatTensor\n",
      "tensor([[1., 2., 3.],\n",
      "        [4., 5., 6.]])\n",
      "torch.LongTensor\n",
      "tensor([[1, 2, 3],\n",
      "        [4, 5, 6]])\n",
      "torch.ByteTensor\n",
      "tensor([1, 0, 1, 1], dtype=torch.uint8)\n"
     ]
    }
   ],
   "source": [
    "# 실수형 텐서 \n",
    "a = torch.FloatTensor(np.array([[1,2,3], [4,5,6]]))\n",
    "print(a.type())\n",
    "print(a)\n",
    "\n",
    "# 정수형 텐서\n",
    "b = torch.LongTensor(np.array([[1,2,3], [4,5,6]]))\n",
    "print(b.type())\n",
    "print(b)\n",
    "\n",
    "# 8 bit 정수형\n",
    "c = torch.ByteTensor([True, False, True, True])\n",
    "print(c.type())\n",
    "print(c)"
   ]
  },
  {
   "cell_type": "markdown",
   "id": "proud-smooth",
   "metadata": {},
   "source": [
    "# 텐서 조작"
   ]
  },
  {
   "cell_type": "markdown",
   "id": "olive-aspect",
   "metadata": {},
   "source": [
    "## 슬라이싱"
   ]
  },
  {
   "cell_type": "code",
   "execution_count": 20,
   "id": "indonesian-spectacular",
   "metadata": {},
   "outputs": [
    {
     "name": "stdout",
     "output_type": "stream",
     "text": [
      "tensor([[[5, 9, 1, 8],\n",
      "         [5, 7, 7, 7],\n",
      "         [3, 4, 1, 7]],\n",
      "\n",
      "        [[2, 0, 6, 3],\n",
      "         [2, 3, 0, 0],\n",
      "         [9, 5, 4, 2]]])\n"
     ]
    }
   ],
   "source": [
    "torch.manual_seed(777)\n",
    "x = torch.randint(0, 10, size=(2,3,4))\n",
    "print(x)"
   ]
  },
  {
   "cell_type": "code",
   "execution_count": 18,
   "id": "cultural-status",
   "metadata": {},
   "outputs": [
    {
     "name": "stdout",
     "output_type": "stream",
     "text": [
      "tensor(7)\n"
     ]
    }
   ],
   "source": [
    "print(x[0,2,3])"
   ]
  },
  {
   "cell_type": "code",
   "execution_count": 21,
   "id": "significant-circus",
   "metadata": {},
   "outputs": [
    {
     "name": "stdout",
     "output_type": "stream",
     "text": [
      "tensor([8, 7])\n"
     ]
    }
   ],
   "source": [
    "print(x[0,:2,3])"
   ]
  },
  {
   "cell_type": "code",
   "execution_count": 22,
   "id": "organized-suicide",
   "metadata": {},
   "outputs": [
    {
     "name": "stdout",
     "output_type": "stream",
     "text": [
      "tensor([4, 1, 7])\n"
     ]
    }
   ],
   "source": [
    "print(x[0,2,1:])"
   ]
  },
  {
   "cell_type": "code",
   "execution_count": 23,
   "id": "indoor-variance",
   "metadata": {},
   "outputs": [
    {
     "name": "stdout",
     "output_type": "stream",
     "text": [
      "tensor([4])\n"
     ]
    }
   ],
   "source": [
    "print(x[0,2,1:2])"
   ]
  },
  {
   "cell_type": "code",
   "execution_count": 24,
   "id": "boxed-mauritius",
   "metadata": {},
   "outputs": [
    {
     "name": "stdout",
     "output_type": "stream",
     "text": [
      "tensor([3, 4, 1, 7])\n"
     ]
    }
   ],
   "source": [
    "print(x[0,2,:])"
   ]
  },
  {
   "cell_type": "markdown",
   "id": "crazy-stretch",
   "metadata": {},
   "source": [
    "## 선택 텐서 시각화"
   ]
  },
  {
   "cell_type": "code",
   "execution_count": 25,
   "id": "future-compatibility",
   "metadata": {},
   "outputs": [],
   "source": [
    "def draw_tensor(temp):\n",
    "    fig, axes = plt.subplots(len(temp), 1)\n",
    "    for i in range(len(temp)):\n",
    "        axes[i].matshow(temp.numpy()[i], vmin=0, vmax=1, cmap='gray')\n",
    "    plt.show()"
   ]
  },
  {
   "cell_type": "code",
   "execution_count": 26,
   "id": "advanced-annotation",
   "metadata": {},
   "outputs": [
    {
     "data": {
      "image/png": "[encoded data removed]",
      "text/plain": [
       "<Figure size 432x288 with 2 Axes>"
      ]
     },
     "metadata": {
      "needs_background": "light"
     },
     "output_type": "display_data"
    }
   ],
   "source": [
    "temp = torch.ones_like(x)\n",
    "temp[0,2,3] = 0\n",
    "draw_tensor(temp)"
   ]
  },
  {
   "cell_type": "code",
   "execution_count": 27,
   "id": "instructional-ancient",
   "metadata": {},
   "outputs": [
    {
     "data": {
      "image/png": "[encoded data removed]",
      "text/plain": [
       "<Figure size 432x288 with 2 Axes>"
      ]
     },
     "metadata": {
      "needs_background": "light"
     },
     "output_type": "display_data"
    }
   ],
   "source": [
    "temp = torch.ones_like(x)\n",
    "temp[0, :2, 3] = 0\n",
    "draw_tensor(temp)"
   ]
  },
  {
   "cell_type": "markdown",
   "id": "extended-tiffany",
   "metadata": {},
   "source": [
    "## view"
   ]
  },
  {
   "cell_type": "code",
   "execution_count": 28,
   "id": "pending-recipient",
   "metadata": {},
   "outputs": [
    {
     "name": "stdout",
     "output_type": "stream",
     "text": [
      "tensor([[[5, 9, 1, 8, 5, 7],\n",
      "         [7, 7, 3, 4, 1, 7]],\n",
      "\n",
      "        [[2, 0, 6, 3, 2, 3],\n",
      "         [0, 0, 9, 5, 4, 2]]])\n",
      "tensor([[[5, 9, 1, 8, 5, 7, 7, 7, 3, 4, 1, 7]],\n",
      "\n",
      "        [[2, 0, 6, 3, 2, 3, 0, 0, 9, 5, 4, 2]]])\n"
     ]
    }
   ],
   "source": [
    "print(x.view(2,2,6))\n",
    "print(x.view(-1,1,12))"
   ]
  },
  {
   "cell_type": "markdown",
   "id": "wrong-elite",
   "metadata": {},
   "source": [
    "## transpose"
   ]
  },
  {
   "cell_type": "code",
   "execution_count": 29,
   "id": "mathematical-concentration",
   "metadata": {},
   "outputs": [
    {
     "name": "stdout",
     "output_type": "stream",
     "text": [
      "torch.Size([3, 2, 4])\n",
      "tensor([[[5, 9, 1, 8],\n",
      "         [2, 0, 6, 3]],\n",
      "\n",
      "        [[5, 7, 7, 7],\n",
      "         [2, 3, 0, 0]],\n",
      "\n",
      "        [[3, 4, 1, 7],\n",
      "         [9, 5, 4, 2]]])\n"
     ]
    }
   ],
   "source": [
    "x_transposed = x.transpose(0,1)\n",
    "print(x_transposed.size())\n",
    "print(x_transposed)"
   ]
  },
  {
   "cell_type": "code",
   "execution_count": 32,
   "id": "recorded-destiny",
   "metadata": {},
   "outputs": [
    {
     "name": "stdout",
     "output_type": "stream",
     "text": [
      "tensor([[1., 2., 3.],\n",
      "        [4., 5., 6.]])\n",
      "torch.Size([2, 3])\n",
      "tensor([[1., 4.],\n",
      "        [2., 5.],\n",
      "        [3., 6.]])\n",
      "torch.Size([3, 2])\n",
      "tensor([[1., 2., 3.],\n",
      "        [4., 5., 6.]])\n",
      "torch.Size([2, 3])\n"
     ]
    }
   ],
   "source": [
    "# 2차원에서는 전치행렬 생성 가능 --> .t()\n",
    "A = torch.Tensor([[1,2,3],\n",
    "                 [4,5,6]])\n",
    "print(A)\n",
    "print(A.size())  # [2,3]\n",
    "print(A.t())\n",
    "print(A.t().size())  # [3,2]\n",
    "print(A)  # 원본을 바꾸진 않음\n",
    "print(A.size())"
   ]
  },
  {
   "cell_type": "markdown",
   "id": "excellent-sleeping",
   "metadata": {},
   "source": [
    "# squeeze & unsqueeze"
   ]
  },
  {
   "cell_type": "code",
   "execution_count": 36,
   "id": "color-short",
   "metadata": {},
   "outputs": [
    {
     "name": "stdout",
     "output_type": "stream",
     "text": [
      "tensor([[[[[0.8897],\n",
      "           [0.8886],\n",
      "           [0.7226],\n",
      "           [0.7461]],\n",
      "\n",
      "          [[0.5039],\n",
      "           [0.1899],\n",
      "           [0.4138],\n",
      "           [0.4453]],\n",
      "\n",
      "          [[0.7574],\n",
      "           [0.7359],\n",
      "           [0.1175],\n",
      "           [0.0064]]]],\n",
      "\n",
      "\n",
      "\n",
      "        [[[[0.0768],\n",
      "           [0.6158],\n",
      "           [0.8972],\n",
      "           [0.3932]],\n",
      "\n",
      "          [[0.3034],\n",
      "           [0.7841],\n",
      "           [0.0913],\n",
      "           [0.2953]],\n",
      "\n",
      "          [[0.3486],\n",
      "           [0.6468],\n",
      "           [0.6712],\n",
      "           [0.0438]]]]])\n",
      "tensor([[[0.8897, 0.8886, 0.7226, 0.7461],\n",
      "         [0.5039, 0.1899, 0.4138, 0.4453],\n",
      "         [0.7574, 0.7359, 0.1175, 0.0064]],\n",
      "\n",
      "        [[0.0768, 0.6158, 0.8972, 0.3932],\n",
      "         [0.3034, 0.7841, 0.0913, 0.2953],\n",
      "         [0.3486, 0.6468, 0.6712, 0.0438]]])\n",
      "torch.Size([2, 3, 4])\n",
      "tensor([[[[0.8897],\n",
      "          [0.8886],\n",
      "          [0.7226],\n",
      "          [0.7461]],\n",
      "\n",
      "         [[0.5039],\n",
      "          [0.1899],\n",
      "          [0.4138],\n",
      "          [0.4453]],\n",
      "\n",
      "         [[0.7574],\n",
      "          [0.7359],\n",
      "          [0.1175],\n",
      "          [0.0064]]],\n",
      "\n",
      "\n",
      "        [[[0.0768],\n",
      "          [0.6158],\n",
      "          [0.8972],\n",
      "          [0.3932]],\n",
      "\n",
      "         [[0.3034],\n",
      "          [0.7841],\n",
      "          [0.0913],\n",
      "          [0.2953]],\n",
      "\n",
      "         [[0.3486],\n",
      "          [0.6468],\n",
      "          [0.6712],\n",
      "          [0.0438]]]])\n",
      "torch.Size([2, 3, 4, 1])\n",
      "tensor([[[[[[0.8897],\n",
      "            [0.8886],\n",
      "            [0.7226],\n",
      "            [0.7461]]],\n",
      "\n",
      "\n",
      "          [[[0.5039],\n",
      "            [0.1899],\n",
      "            [0.4138],\n",
      "            [0.4453]]],\n",
      "\n",
      "\n",
      "          [[[0.7574],\n",
      "            [0.7359],\n",
      "            [0.1175],\n",
      "            [0.0064]]]]],\n",
      "\n",
      "\n",
      "\n",
      "\n",
      "        [[[[[0.0768],\n",
      "            [0.6158],\n",
      "            [0.8972],\n",
      "            [0.3932]]],\n",
      "\n",
      "\n",
      "          [[[0.3034],\n",
      "            [0.7841],\n",
      "            [0.0913],\n",
      "            [0.2953]]],\n",
      "\n",
      "\n",
      "          [[[0.3486],\n",
      "            [0.6468],\n",
      "            [0.6712],\n",
      "            [0.0438]]]]]])\n",
      "torch.Size([2, 1, 3, 1, 4, 1])\n"
     ]
    }
   ],
   "source": [
    "x = torch.rand((2,1,3,4,1))\n",
    "\n",
    "print(x)\n",
    "\n",
    "# 크기가 1인 차원 제거(squeeze)\n",
    "print(x.squeeze())\n",
    "print(x.squeeze().size())  # [2,3,4]\n",
    "\n",
    "# 두번째 차원 squeeze\n",
    "print(x.squeeze(1))\n",
    "print(x.squeeze(1).size())  # [2,3,4,1]\n",
    "\n",
    "# 4번째 차원에 크기 1 추가 --> 6차원 텐서\n",
    "print(x.unsqueeze(3))\n",
    "print(x.unsqueeze(3).size())  # [2,1,3,1,4,1]"
   ]
  },
  {
   "cell_type": "markdown",
   "id": "special-collector",
   "metadata": {},
   "source": [
    "## cat & stack"
   ]
  },
  {
   "cell_type": "code",
   "execution_count": 37,
   "id": "bronze-healthcare",
   "metadata": {},
   "outputs": [],
   "source": [
    "def draw_tensor2(x):\n",
    "    subplot_size = 1 if x.ndimension() <= 2 else x.size(0)\n",
    "    fig, axes = plt.subplots(subplot_size, 1)\n",
    "    \n",
    "    if subplot_size == 1:\n",
    "        axes.matshow(x.numpy(), vmin=0, vmax=1, cmap='gray')\n",
    "        \n",
    "    else:\n",
    "        for i in range(subplot_size):\n",
    "            axes[i].matshow(x.numpy()[i], vmin=0, vmax=1, cmap='gray')\n",
    "            \n",
    "    plt.show()"
   ]
  },
  {
   "cell_type": "code",
   "execution_count": 38,
   "id": "interim-notification",
   "metadata": {},
   "outputs": [
    {
     "name": "stdout",
     "output_type": "stream",
     "text": [
      "tensor([[0.0819, 0.4911, 0.4033],\n",
      "        [0.3859, 0.8813, 0.8811],\n",
      "        [0.7242, 0.5033, 0.8249],\n",
      "        [0.2634, 0.3112, 0.5948]])\n"
     ]
    },
    {
     "data": {
      "image/png": "[encoded data removed]",
      "text/plain": [
       "<Figure size 432x288 with 1 Axes>"
      ]
     },
     "metadata": {
      "needs_background": "light"
     },
     "output_type": "display_data"
    }
   ],
   "source": [
    "torch.manual_seed(777)\n",
    "\n",
    "A = torch.rand((2,3))\n",
    "B = torch.rand((2,3))\n",
    "\n",
    "AB_cated = torch.cat([A,B], dim=0)\n",
    "print(AB_cated)\n",
    "\n",
    "draw_tensor2(AB_cated)"
   ]
  },
  {
   "cell_type": "code",
   "execution_count": 44,
   "id": "helpful-smart",
   "metadata": {},
   "outputs": [
    {
     "name": "stdout",
     "output_type": "stream",
     "text": [
      "tensor([[[0.0819, 0.4911, 0.4033],\n",
      "         [0.3859, 0.8813, 0.8811]],\n",
      "\n",
      "        [[0.7242, 0.5033, 0.8249],\n",
      "         [0.2634, 0.3112, 0.5948]]])\n",
      "torch.Size([2, 2, 3])\n"
     ]
    },
    {
     "data": {
      "image/png": "[encoded data removed]",
      "text/plain": [
       "<Figure size 432x288 with 2 Axes>"
      ]
     },
     "metadata": {
      "needs_background": "light"
     },
     "output_type": "display_data"
    },
    {
     "name": "stdout",
     "output_type": "stream",
     "text": [
      "None\n",
      "tensor([[[0.0819, 0.4911, 0.4033],\n",
      "         [0.3859, 0.8813, 0.8811]],\n",
      "\n",
      "        [[0.7242, 0.5033, 0.8249],\n",
      "         [0.2634, 0.3112, 0.5948]]])\n",
      "torch.Size([2, 2, 3])\n"
     ]
    },
    {
     "data": {
      "image/png": "[encoded data removed]",
      "text/plain": [
       "<Figure size 432x288 with 2 Axes>"
      ]
     },
     "metadata": {
      "needs_background": "light"
     },
     "output_type": "display_data"
    }
   ],
   "source": [
    "AB_stacked = torch.stack([A,B], dim=0)\n",
    "print(AB_stacked)\n",
    "print(AB_stacked.size()) # [2,2,3]\n",
    "print(draw_tensor2(AB_stacked))\n",
    "\n",
    "# 각 텐서를 첫번째 차원 기준으로 unsqueeze 한 후, cat한것과 같은 결과\n",
    "AB_unsqueeze_cat = torch.cat([A.unsqueeze(0), B.unsqueeze(0)], dim=0)\n",
    "print(AB_unsqueeze_cat)\n",
    "print(AB_unsqueeze_cat.size()) # [2,2,3]\n",
    "draw_tensor2(AB_unsqueeze_cat)\n"
   ]
  },
  {
   "cell_type": "code",
   "execution_count": 49,
   "id": "imposed-following",
   "metadata": {},
   "outputs": [
    {
     "name": "stdout",
     "output_type": "stream",
     "text": [
      "tensor([[[0.0819, 0.4911, 0.4033],\n",
      "         [0.3859, 0.8813, 0.8811]]])\n",
      "torch.Size([1, 2, 3])\n",
      "tensor([[[0.7242, 0.5033, 0.8249],\n",
      "         [0.2634, 0.3112, 0.5948]]])\n",
      "torch.Size([1, 2, 3])\n"
     ]
    },
    {
     "data": {
      "image/png": "[encoded data removed]",
      "text/plain": [
       "<Figure size 432x288 with 1 Axes>"
      ]
     },
     "metadata": {
      "needs_background": "light"
     },
     "output_type": "display_data"
    },
    {
     "data": {
      "image/png": "[encoded data removed]",
      "text/plain": [
       "<Figure size 432x288 with 1 Axes>"
      ]
     },
     "metadata": {
      "needs_background": "light"
     },
     "output_type": "display_data"
    }
   ],
   "source": [
    "print(A.unsqueeze(0))\n",
    "print(A.unsqueeze(0).size())\n",
    "\n",
    "print(B.unsqueeze(0))\n",
    "print(B.unsqueeze(0).size())\n",
    "\n",
    "draw_tensor2(A.unsqueeze(0))\n",
    "draw_tensor2(B.unsqueeze(0))"
   ]
  },
  {
   "cell_type": "markdown",
   "id": "local-holmes",
   "metadata": {},
   "source": [
    "# 텐서의 사칙연산"
   ]
  },
  {
   "cell_type": "markdown",
   "id": "northern-freeware",
   "metadata": {},
   "source": [
    "## 텐서의 덧셈과 뺄셈"
   ]
  },
  {
   "cell_type": "code",
   "execution_count": 52,
   "id": "meaning-thousand",
   "metadata": {},
   "outputs": [
    {
     "name": "stdout",
     "output_type": "stream",
     "text": [
      "tensor([5., 7., 9.])\n",
      "tensor([5., 7., 9.])\n",
      "tensor([-3., -3., -3.])\n",
      "tensor([-3., -3., -3.])\n",
      "tensor([2., 3., 4.])\n",
      "tensor([0., 1., 2.])\n"
     ]
    }
   ],
   "source": [
    "x = torch.Tensor([1,2,3])\n",
    "y = torch.Tensor([4,5,6])\n",
    "\n",
    "print(torch.add(x,y))\n",
    "print(x+y)\n",
    "\n",
    "print(torch.sub(x,y))\n",
    "print(x-y)\n",
    "\n",
    "print(x+1)\n",
    "\n",
    "print(x-1)"
   ]
  },
  {
   "cell_type": "markdown",
   "id": "after-fabric",
   "metadata": {},
   "source": [
    "## 텐서의 곱셈"
   ]
  },
  {
   "cell_type": "code",
   "execution_count": 51,
   "id": "documentary-holmes",
   "metadata": {},
   "outputs": [
    {
     "name": "stdout",
     "output_type": "stream",
     "text": [
      "tensor([ 4., 10., 18.])\n",
      "tensor([ 4., 10., 18.])\n",
      "tensor([0.2500, 0.4000, 0.5000])\n",
      "tensor([0.2500, 0.4000, 0.5000])\n"
     ]
    }
   ],
   "source": [
    "# 원소 단위 곱\n",
    "# 스칼라(scalar)끼리의 곱\n",
    "# 아르마다 곱(Hadamard product)\n",
    "\n",
    "print(x*y)\n",
    "print(torch.mul(x,y))\n",
    "\n",
    "print(x/y)\n",
    "print(torch.div(x,y))"
   ]
  },
  {
   "cell_type": "code",
   "execution_count": 53,
   "id": "featured-sacrifice",
   "metadata": {},
   "outputs": [
    {
     "name": "stdout",
     "output_type": "stream",
     "text": [
      "inner product: \n",
      "tensor(32.)\n",
      "tensor(32.)\n"
     ]
    }
   ],
   "source": [
    "# 벡터의 곱셈\n",
    "# 스칼라곱 or 점곱(dot product)\n",
    "# 내적 (inner product)\n",
    "\n",
    "print(\"inner product: \")\n",
    "print(torch.dot(x,y))  # tensor(32.)\n",
    "print(x.dot(y))        # tensor(32.)"
   ]
  },
  {
   "cell_type": "code",
   "execution_count": 54,
   "id": "israeli-governor",
   "metadata": {},
   "outputs": [
    {
     "name": "stdout",
     "output_type": "stream",
     "text": [
      "tensor([[39., 49.],\n",
      "        [54., 68.],\n",
      "        [69., 87.]])\n",
      "tensor([[39., 49.],\n",
      "        [54., 68.],\n",
      "        [69., 87.]])\n"
     ]
    }
   ],
   "source": [
    "# 행렬의 곱셈\n",
    "# torch.mm (matrix multiplication)\n",
    "\n",
    "x = torch.Tensor([[1,4],\n",
    "                 [2,5],\n",
    "                 [3,6]])\n",
    "y = torch.Tensor([[7,9],\n",
    "                 [8,10]])\n",
    "\n",
    "print(torch.mm(x,y))\n",
    "print(x.mm(y))"
   ]
  },
  {
   "cell_type": "markdown",
   "id": "entire-cheese",
   "metadata": {},
   "source": [
    "# 기타 연산"
   ]
  },
  {
   "cell_type": "markdown",
   "id": "neural-inspection",
   "metadata": {},
   "source": [
    "## sum / mean"
   ]
  },
  {
   "cell_type": "code",
   "execution_count": 55,
   "id": "rapid-payday",
   "metadata": {},
   "outputs": [
    {
     "name": "stdout",
     "output_type": "stream",
     "text": [
      "tensor(36.)\n",
      "tensor(4.5000)\n",
      "tensor([[ 6.,  8.],\n",
      "        [10., 12.]])\n",
      "tensor([[3., 4.],\n",
      "        [5., 6.]])\n"
     ]
    }
   ],
   "source": [
    "z = torch.Tensor([[[1,2],\n",
    "                  [3,4]],\n",
    "                 \n",
    "                  [[5,6],\n",
    "                  [7,8]]])\n",
    "\n",
    "print(torch.sum(z))\n",
    "print(torch.mean(z))\n",
    "\n",
    "print(torch.sum(z, dim=0))\n",
    "print(torch.mean(z, dim=0))"
   ]
  },
  {
   "cell_type": "code",
   "execution_count": 58,
   "id": "comprehensive-street",
   "metadata": {},
   "outputs": [
    {
     "name": "stdout",
     "output_type": "stream",
     "text": [
      "tensor(8.)\n",
      "tensor(7)\n",
      "tensor(1.)\n",
      "tensor(0)\n",
      "torch.return_types.max(\n",
      "values=tensor([[5., 6.],\n",
      "        [7., 8.]]),\n",
      "indices=tensor([[1, 1],\n",
      "        [1, 1]]))\n",
      "torch.return_types.min(\n",
      "values=tensor([[1., 2.],\n",
      "        [3., 4.]]),\n",
      "indices=tensor([[0, 0],\n",
      "        [0, 0]]))\n"
     ]
    }
   ],
   "source": [
    "print(torch.max(z))\n",
    "print(torch.argmax(z)) # 최댓값의 위치\n",
    "                       # tensor(7)\n",
    "\n",
    "print(torch.min(z))\n",
    "print(torch.argmin(z)) # 최댓값의 위치\n",
    "                       # tensor(0)\n",
    "\n",
    "# 튜플 반환\n",
    "print(torch.max(z, dim=0))\n",
    "print(torch.min(z, dim=0))"
   ]
  },
  {
   "cell_type": "markdown",
   "id": "southwest-subdivision",
   "metadata": {},
   "source": [
    "## 논리연산"
   ]
  },
  {
   "cell_type": "code",
   "execution_count": 59,
   "id": "under-strand",
   "metadata": {},
   "outputs": [
    {
     "name": "stdout",
     "output_type": "stream",
     "text": [
      "tensor([False, False,  True])\n",
      "tensor([False, False,  True])\n",
      "tensor([False,  True,  True])\n",
      "tensor([False,  True,  True])\n",
      "tensor([False,  True, False])\n",
      "tensor([False,  True, False])\n",
      "tensor([ True, False,  True])\n",
      "tensor([ True, False,  True])\n",
      "tensor([ True, False, False])\n",
      "tensor([ True, False, False])\n"
     ]
    }
   ],
   "source": [
    "z = torch.Tensor([-3,2,0])\n",
    "\n",
    "print(z.eq(0))\n",
    "print(z == 0)  # tensor([False, False,  True])\n",
    "\n",
    "# .ge() : greater or equal to\n",
    "print(z.ge(0))\n",
    "print(z >= 0)  # tensor([False,  True,  True])\n",
    "\n",
    "# .gt() : greater than\n",
    "print(z.gt(0))\n",
    "print(z > 0)  # tensor([False,  True, False])\n",
    "\n",
    "# .le() : less or equal to\n",
    "print(z.le(0))\n",
    "print(z <= 0)  # tensor([ True, False,  True])\n",
    "\n",
    "# .lt() : less than\n",
    "print(z.lt(0))\n",
    "print(z < 0)  # tensor([ True, False, False])\n",
    "\n",
    "# torch.ByteTensor 타입 반환"
   ]
  }
 ],
 "metadata": {
  "kernelspec": {
   "display_name": "Python 3",
   "language": "python",
   "name": "python3"
  },
  "language_info": {
   "codemirror_mode": {
    "name": "ipython",
    "version": 3
   },
   "file_extension": ".py",
   "mimetype": "text/x-python",
   "name": "python",
   "nbconvert_exporter": "python",
   "pygments_lexer": "ipython3",
   "version": "3.9.2"
  }
 },
 "nbformat": 4,
 "nbformat_minor": 5
}
