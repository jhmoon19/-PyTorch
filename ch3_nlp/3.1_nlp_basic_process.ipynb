{
 "cells": [
  {
   "cell_type": "markdown",
   "id": "b3fdf919",
   "metadata": {},
   "source": [
    "# 딥러닝 자연어 처리의 일반적인 과정\n",
    "## 1. 토큰화"
   ]
  },
  {
   "cell_type": "code",
   "execution_count": 2,
   "id": "bd9cddee",
   "metadata": {},
   "outputs": [
    {
     "name": "stdout",
     "output_type": "stream",
     "text": [
      "['the', 'quick', 'brown', 'fox', 'jumps', 'over', 'the', 'lazy', 'dog']\n"
     ]
    }
   ],
   "source": [
    "eng_sent = \"the quick brown fox jumps over the lazy dog\"\n",
    "\n",
    "import spacy\n",
    "spacy_en = spacy.load('en_core_web_sm')\n",
    "\n",
    "def tokenize_en(text):\n",
    "    return [token.text for token in spacy_en.tokenizer(text)]\n",
    "\n",
    "print(tokenize_en(eng_sent))"
   ]
  },
  {
   "cell_type": "code",
   "execution_count": 3,
   "id": "efced050",
   "metadata": {},
   "outputs": [
    {
     "name": "stdout",
     "output_type": "stream",
     "text": [
      "['the', 'quick', 'brown', 'fox', 'jumps', 'over', 'the', 'lazy', 'dog']\n"
     ]
    }
   ],
   "source": [
    "from nltk.tokenize import word_tokenize\n",
    "\n",
    "print(word_tokenize(eng_sent))"
   ]
  },
  {
   "cell_type": "code",
   "execution_count": 4,
   "id": "f49fe837",
   "metadata": {},
   "outputs": [
    {
     "name": "stdout",
     "output_type": "stream",
     "text": [
      "['the', 'quick', 'brown', 'fox', 'jumps', 'over', 'the', 'lazy', 'dog']\n"
     ]
    }
   ],
   "source": [
    "print(eng_sent.split())"
   ]
  },
  {
   "cell_type": "markdown",
   "id": "da1e72bf",
   "metadata": {},
   "source": [
    "### 한국어 형태소 분석: Mecab"
   ]
  },
  {
   "cell_type": "code",
   "execution_count": 1,
   "id": "e66decc9",
   "metadata": {},
   "outputs": [
    {
     "data": {
      "text/plain": [
       "'안녕\\tNNG,행위,T,안녕,*,*,*,*\\n하\\tXSV,*,F,하,*,*,*,*\\n세요\\tEP+EF,*,F,세요,Inflect,EP,EF,시/EP/*+어요/EF/*\\n.\\tSF,*,*,*,*,*,*,*\\n테스트\\tNNG,행위,F,테스트,*,*,*,*\\n입니다요\\tVCP+EF,*,F,입니다요,Inflect,VCP,EF,이/VCP/*+ᄇ니다요/EF/*\\n.\\tSF,*,*,*,*,*,*,*\\nEOS\\n'"
      ]
     },
     "execution_count": 1,
     "metadata": {},
     "output_type": "execute_result"
    }
   ],
   "source": [
    "import MeCab\n",
    "\n",
    "m = MeCab.Tagger()\n",
    "m.parse(\"안녕하세요. 테스트 입니다요.\")"
   ]
  },
  {
   "cell_type": "code",
   "execution_count": 2,
   "id": "6e95532a",
   "metadata": {},
   "outputs": [
    {
     "name": "stdout",
     "output_type": "stream",
     "text": [
      "안녕\tNNG,행위,T,안녕,*,*,*,*\n",
      "하\tXSV,*,F,하,*,*,*,*\n",
      "세요\tEP+EF,*,F,세요,Inflect,EP,EF,시/EP/*+어요/EF/*\n",
      ".\tSF,*,*,*,*,*,*,*\n",
      "테스트\tNNG,행위,F,테스트,*,*,*,*\n",
      "입니다요\tVCP+EF,*,F,입니다요,Inflect,VCP,EF,이/VCP/*+ᄇ니다요/EF/*\n",
      ".\tSF,*,*,*,*,*,*,*\n",
      "EOS\n",
      "\n"
     ]
    }
   ],
   "source": [
    "print(m.parse(\"안녕하세요. 테스트 입니다요.\"))"
   ]
  },
  {
   "cell_type": "code",
   "execution_count": 5,
   "id": "a210bc89",
   "metadata": {},
   "outputs": [
    {
     "name": "stdout",
     "output_type": "stream",
     "text": [
      "안녕\tNNG,행위,T,안녕,*,*,*,*\n",
      "하\tXSV,*,F,하,*,*,*,*\n",
      "세요\tEP+EF,*,F,세요,Inflect,EP,EF,시/EP/*+어요/EF/*\n",
      ".\tSF,*,*,*,*,*,*,*\n",
      "EOS\n",
      "\n"
     ]
    }
   ],
   "source": [
    "print(m.parse(\"안녕하세요.\"))"
   ]
  },
  {
   "cell_type": "code",
   "execution_count": 6,
   "id": "bd374a19",
   "metadata": {},
   "outputs": [
    {
     "name": "stdout",
     "output_type": "stream",
     "text": [
      "안녕\tIC,*,T,안녕,*,*,*,*\n",
      "EOS\n",
      "\n"
     ]
    }
   ],
   "source": [
    "print(m.parse(\"안녕\"))"
   ]
  },
  {
   "cell_type": "code",
   "execution_count": 3,
   "id": "b5645e5b",
   "metadata": {},
   "outputs": [
    {
     "name": "stdout",
     "output_type": "stream",
     "text": [
      "mecab check :  ['어릴', '때', '보', '고', '지금', '다시', '봐도', '재밌', '어요', 'ㅋㅋ']\n"
     ]
    }
   ],
   "source": [
    "from konlpy.tag import Mecab\n",
    "\n",
    "tokenizer = Mecab(dicpath=r'C:\\mecab\\mecab-ko-dic').morphs\n",
    "\n",
    "print('mecab check : ', tokenizer(\"어릴 때 보고 지금 다시 봐도 재밌어요 ㅋㅋ\"))"
   ]
  },
  {
   "cell_type": "code",
   "execution_count": 9,
   "id": "2a5e97d0",
   "metadata": {},
   "outputs": [
    {
     "name": "stdout",
     "output_type": "stream",
     "text": [
      "[('오늘', 'MAG'), ('날씨', 'NNG'), ('좋', 'VA'), ('다', 'EF'), ('.', 'SF')]\n",
      "[('오늘', '일반 부사'), ('날씨', '일반 명사'), ('좋', '형용사'), ('다', '종결 어미'), ('.', '마침표, 물음표, 느낌표')]\n"
     ]
    }
   ],
   "source": [
    "kor_sent = \"오늘 날씨 좋다.\"\n",
    "\n",
    "tokenizer = Mecab(dicpath=r'C:\\mecab\\mecab-ko-dic')\n",
    "\n",
    "tokenized_sent = tokenizer.pos(kor_sent)\n",
    "print(tokenized_sent)\n",
    "\n",
    "# 영어로 된 품사 정보를 한글로 전환\n",
    "print([(k, tokenizer.tagset.get(v)) for k,v in tokenized_sent] )"
   ]
  },
  {
   "cell_type": "code",
   "execution_count": 10,
   "id": "00feaaae",
   "metadata": {},
   "outputs": [
    {
     "data": {
      "text/plain": [
       "{'EC': '연결 어미',\n",
       " 'EF': '종결 어미',\n",
       " 'EP': '선어말어미',\n",
       " 'ETM': '관형형 전성 어미',\n",
       " 'ETN': '명사형 전성 어미',\n",
       " 'IC': '감탄사',\n",
       " 'JC': '접속 조사',\n",
       " 'JKB': '부사격 조사',\n",
       " 'JKC': '보격 조사',\n",
       " 'JKG': '관형격 조사',\n",
       " 'JKO': '목적격 조사',\n",
       " 'JKQ': '인용격 조사',\n",
       " 'JKS': '주격 조사',\n",
       " 'JKV': '호격 조사',\n",
       " 'JX': '보조사',\n",
       " 'MAG': '일반 부사',\n",
       " 'MAJ': '접속 부사',\n",
       " 'MM': '관형사',\n",
       " 'NNB': '의존 명사',\n",
       " 'NNBC': '단위를 나타내는 명사',\n",
       " 'NNG': '일반 명사',\n",
       " 'NNP': '고유 명사',\n",
       " 'NP': '대명사',\n",
       " 'NR': '수사',\n",
       " 'SC': '구분자 , · / :',\n",
       " 'SE': '줄임표 …',\n",
       " 'SF': '마침표, 물음표, 느낌표',\n",
       " 'SH': '한자',\n",
       " 'SL': '외국어',\n",
       " 'SN': '숫자',\n",
       " 'SSC': '닫는 괄호 ), ]',\n",
       " 'SSO': '여는 괄호 (, [',\n",
       " 'SY': '기타 기호',\n",
       " 'VA': '형용사',\n",
       " 'VCN': '부정 지정사',\n",
       " 'VCP': '긍정 지정사',\n",
       " 'VV': '동사',\n",
       " 'VX': '보조 용언',\n",
       " 'XPN': '체언 접두사',\n",
       " 'XR': '어근',\n",
       " 'XSA': '형용사 파생 접미사',\n",
       " 'XSN': '명사파생 접미사',\n",
       " 'XSV': '동사 파생 접미사'}"
      ]
     },
     "execution_count": 10,
     "metadata": {},
     "output_type": "execute_result"
    }
   ],
   "source": [
    "tokenizer.tagset"
   ]
  },
  {
   "cell_type": "code",
   "execution_count": 25,
   "id": "bfb11c66",
   "metadata": {},
   "outputs": [
    {
     "data": {
      "text/plain": [
       "43"
      ]
     },
     "execution_count": 25,
     "metadata": {},
     "output_type": "execute_result"
    }
   ],
   "source": [
    "len(tokenizer.tagset)"
   ]
  },
  {
   "cell_type": "code",
   "execution_count": 11,
   "id": "52374864",
   "metadata": {},
   "outputs": [
    {
     "data": {
      "text/plain": [
       "'어근'"
      ]
     },
     "execution_count": 11,
     "metadata": {},
     "output_type": "execute_result"
    }
   ],
   "source": [
    "tokenizer.tagset['XR']"
   ]
  },
  {
   "cell_type": "code",
   "execution_count": 12,
   "id": "d45248bf",
   "metadata": {},
   "outputs": [
    {
     "data": {
      "text/plain": [
       "<konlpy.tag._mecab.Mecab at 0x1b13bfcb448>"
      ]
     },
     "execution_count": 12,
     "metadata": {},
     "output_type": "execute_result"
    }
   ],
   "source": [
    "tokenizer"
   ]
  },
  {
   "cell_type": "code",
   "execution_count": 13,
   "id": "537d5a8b",
   "metadata": {},
   "outputs": [
    {
     "data": {
      "text/plain": [
       "['안녕', '하', '세요']"
      ]
     },
     "execution_count": 13,
     "metadata": {},
     "output_type": "execute_result"
    }
   ],
   "source": [
    "tokenizer.morphs('안녕하세요')"
   ]
  },
  {
   "cell_type": "code",
   "execution_count": 14,
   "id": "c8044d1a",
   "metadata": {},
   "outputs": [
    {
     "data": {
      "text/plain": [
       "[('안녕', 'NNG'), ('하', 'XSV'), ('세요', 'EP+EF')]"
      ]
     },
     "execution_count": 14,
     "metadata": {},
     "output_type": "execute_result"
    }
   ],
   "source": [
    "tokenizer.pos('안녕하세요')"
   ]
  },
  {
   "cell_type": "code",
   "execution_count": 19,
   "id": "c0f22981",
   "metadata": {},
   "outputs": [
    {
     "name": "stdout",
     "output_type": "stream",
     "text": [
      "안녕\tNNG,행위,T,안녕,*,*,*,*\n",
      "하\tXSV,*,F,하,*,*,*,*\n",
      "세요\tEP+EF,*,F,세요,Inflect,EP,EF,시/EP/*+어요/EF/*\n",
      "EOS\n",
      "\n"
     ]
    }
   ],
   "source": [
    "print(m.parse('안녕하세요'))"
   ]
  },
  {
   "cell_type": "code",
   "execution_count": 20,
   "id": "e6771136",
   "metadata": {},
   "outputs": [
    {
     "data": {
      "text/plain": [
       "<MeCab.Tagger; proxy of <Swig Object of type 'MeCab::Tagger *' at 0x000001B13BF87360> >"
      ]
     },
     "execution_count": 20,
     "metadata": {},
     "output_type": "execute_result"
    }
   ],
   "source": [
    "m"
   ]
  },
  {
   "cell_type": "code",
   "execution_count": 21,
   "id": "b6561e05",
   "metadata": {},
   "outputs": [
    {
     "data": {
      "text/plain": [
       "MeCab.Tagger"
      ]
     },
     "execution_count": 21,
     "metadata": {},
     "output_type": "execute_result"
    }
   ],
   "source": [
    "type(m)"
   ]
  },
  {
   "cell_type": "code",
   "execution_count": 22,
   "id": "1b59320f",
   "metadata": {},
   "outputs": [
    {
     "data": {
      "text/plain": [
       "<module 'MeCab' from 'C:\\\\Users\\\\answl\\\\anaconda3\\\\envs\\\\nlp\\\\lib\\\\site-packages\\\\MeCab.py'>"
      ]
     },
     "execution_count": 22,
     "metadata": {},
     "output_type": "execute_result"
    }
   ],
   "source": [
    "MeCab"
   ]
  },
  {
   "cell_type": "markdown",
   "id": "422c0e4c",
   "metadata": {},
   "source": [
    "## 2. 단어장 생성\n",
    "### 2-1. 네이버 댓글 데이터 토큰화"
   ]
  },
  {
   "cell_type": "code",
   "execution_count": 33,
   "id": "f9c9bdcc",
   "metadata": {},
   "outputs": [
    {
     "name": "stdout",
     "output_type": "stream",
     "text": [
      "(['안개', '자욱', '한', '밤하늘', '에', '떠', '있', '는', '초승달', '같', '은', '영화', '.'], 1)\n"
     ]
    }
   ],
   "source": [
    "from konlpy.tag import Mecab\n",
    "import random\n",
    "\n",
    "tokenizer = Mecab('C:/mecab/mecab-ko-dic')\n",
    "\n",
    "data = []\n",
    "\n",
    "with open('./data/nsmc/ratings.txt', encoding='utf8') as file:\n",
    "    for In, line in enumerate(file):\n",
    "        if In == 0: continue\n",
    "        line = line.strip().split('\\t')\n",
    "        idx, sent, label = line\n",
    "    \n",
    "        data.append((tokenizer.morphs(sent), int(label)))"
   ]
  },
  {
   "cell_type": "code",
   "execution_count": 34,
   "id": "e63b29cb",
   "metadata": {},
   "outputs": [
    {
     "name": "stdout",
     "output_type": "stream",
     "text": [
      "(['안개', '자욱', '한', '밤하늘', '에', '떠', '있', '는', '초승달', '같', '은', '영화', '.'], 1)\n"
     ]
    }
   ],
   "source": [
    "# 긍정 댓글 10개, 부정 댓글 10개 샘플링\n",
    "sample_data = data[4:14] + data[-10:]\n",
    "print(sample_data[0])"
   ]
  },
  {
   "cell_type": "code",
   "execution_count": 36,
   "id": "99b67cc8",
   "metadata": {},
   "outputs": [
    {
     "name": "stdout",
     "output_type": "stream",
     "text": [
      "[(['안개', '자욱', '한', '밤하늘', '에', '떠', '있', '는', '초승달', '같', '은', '영화', '.'], 1), (['사랑', '을', '해', '본', '사람', '이', '라면', '처음', '부터', '끝', '까지', '웃', '을', '수', '있', '는', '영화'], 1), (['완전', '감동', '입니다', '다시', '봐도', '감동'], 1), (['개', '들', '의', '전쟁', '2', '나오', '나요', '?', '나오', '면', '1', '빠', '로', '보', '고', '싶', '음'], 1), (['굿'], 1), (['바보', '가', '아니', '라', '병', '쉰', '인', '듯'], 1), (['내', '나이', '와', '같', '은', '영화', '를', '지금', '본', '나', '는', '감동', '적', '이', '다', '.', '.', '하지만', '훗날', '다시', '보면대', '사', '하나', '하나', '그', '감정', '을', '완벽', '하', '게', '이해', '할', '것', '만', '같', '다', '.', '..'], 1), (['재밌', '다'], 1), (['고질라', '니무', '귀엽', '다', '능', 'ㅋㅋ'], 1), (['영화', '의', '오페라', '화', '라고', '해야', '할', '작품', '.', '극단', '적', '평갈', '림', '은', '어쩔', '수', '없', '는', '듯', '.'], 1), (['장르', '는', '무협', '인데', '내', '가', '보', '기', '엔', '코믹', '이', '던데', '막장', '평점', '2', '점', '도', '아깝', '다'], 0), (['나치', '입장', '에서', '본', '영화', '가', '갑자기', '연속', '으로', '나오', '네', '?', '뭔일', '있', '었', '나', '.', '..'], 0), (['태권도', '?', '??'], 0), (['음', '왜', '봤', '을까', '?', '예고편', '이', '다', '-'], 0), (['개연', '성', '이', '없', '어요', '.', '.', '별루', '다', '.', '..'], 0), (['포켓', '몬스터', '짜', '가', 'ㅡㅡ', ';;'], 0), (['쓰', '.', '레', '.', '기'], 0), (['완전', '사이코', '영화', '.', '마지막', '은', '더욱더', '이', '영화', '의', '질', '을', '떨어트린', '다', '.'], 0), (['왜', '난', '재미없', '었', '지', 'ㅠㅠ', '라따뚜이', '보', '고', '나', '서', '스머프', '봐서', '그런가', 'ㅋㅋ'], 0), (['포', '풍', '저그', '가', '나가', '신다', '영차영차', '영차'], 0)]\n"
     ]
    }
   ],
   "source": [
    "print(sample_data)"
   ]
  },
  {
   "cell_type": "markdown",
   "id": "608c6c66",
   "metadata": {},
   "source": [
    "### 2-2. 단어장 생성"
   ]
  },
  {
   "cell_type": "code",
   "execution_count": 37,
   "id": "c4800b4d",
   "metadata": {},
   "outputs": [],
   "source": [
    "def build_vocab(data):\n",
    "    \n",
    "    # 문장의 각 형태소를 리스트로\n",
    "    flatten = lambda d: [token for sent in d for token in sent]\n",
    "    vocab = {}\n",
    "    \n",
    "    # unknown, pad 토큰 설정\n",
    "    vocab['<unk>'] = 0\n",
    "    vocab['<pad>'] = 1\n",
    "    \n",
    "    # 단어장 생성\n",
    "    for token in flatten(list(zip(*data))[0]):\n",
    "        if vocab.get(token) is None:\n",
    "            vocab.setdefault(token, len(vocab))\n",
    "    return vocab\n",
    "\n",
    "vocab = build_vocab(sample_data)"
   ]
  },
  {
   "cell_type": "markdown",
   "id": "9cd571e0",
   "metadata": {},
   "source": [
    "일반적인 빈도수 세기 방법 \n",
    "- if word not in dict: dict[]=0 ~~ \n",
    "- 코드 가독성 측면에서 안 좋음.\n",
    "\n",
    "<더 나은 방법>\n",
    "--> dict.setdefault\n",
    "- for 문 돌아갈때마다 setdefault(word, 0) 이런식으로 해줘야함.\n",
    "\n",
    "<더 나은 방법>\n",
    "--> from collections import defaultdict\n",
    "- counter = defaultdict(int)\n",
    "- 하고 그냥 counter[word]) += 1 for word in morphs 해주면 됨."
   ]
  },
  {
   "cell_type": "code",
   "execution_count": 38,
   "id": "13f40635",
   "metadata": {},
   "outputs": [
    {
     "data": {
      "text/plain": [
       "{'<unk>': 0,\n",
       " '<pad>': 1,\n",
       " '안개': 2,\n",
       " '자욱': 3,\n",
       " '한': 4,\n",
       " '밤하늘': 5,\n",
       " '에': 6,\n",
       " '떠': 7,\n",
       " '있': 8,\n",
       " '는': 9,\n",
       " '초승달': 10,\n",
       " '같': 11,\n",
       " '은': 12,\n",
       " '영화': 13,\n",
       " '.': 14,\n",
       " '사랑': 15,\n",
       " '을': 16,\n",
       " '해': 17,\n",
       " '본': 18,\n",
       " '사람': 19,\n",
       " '이': 20,\n",
       " '라면': 21,\n",
       " '처음': 22,\n",
       " '부터': 23,\n",
       " '끝': 24,\n",
       " '까지': 25,\n",
       " '웃': 26,\n",
       " '수': 27,\n",
       " '완전': 28,\n",
       " '감동': 29,\n",
       " '입니다': 30,\n",
       " '다시': 31,\n",
       " '봐도': 32,\n",
       " '개': 33,\n",
       " '들': 34,\n",
       " '의': 35,\n",
       " '전쟁': 36,\n",
       " '2': 37,\n",
       " '나오': 38,\n",
       " '나요': 39,\n",
       " '?': 40,\n",
       " '면': 41,\n",
       " '1': 42,\n",
       " '빠': 43,\n",
       " '로': 44,\n",
       " '보': 45,\n",
       " '고': 46,\n",
       " '싶': 47,\n",
       " '음': 48,\n",
       " '굿': 49,\n",
       " '바보': 50,\n",
       " '가': 51,\n",
       " '아니': 52,\n",
       " '라': 53,\n",
       " '병': 54,\n",
       " '쉰': 55,\n",
       " '인': 56,\n",
       " '듯': 57,\n",
       " '내': 58,\n",
       " '나이': 59,\n",
       " '와': 60,\n",
       " '를': 61,\n",
       " '지금': 62,\n",
       " '나': 63,\n",
       " '적': 64,\n",
       " '다': 65,\n",
       " '하지만': 66,\n",
       " '훗날': 67,\n",
       " '보면대': 68,\n",
       " '사': 69,\n",
       " '하나': 70,\n",
       " '그': 71,\n",
       " '감정': 72,\n",
       " '완벽': 73,\n",
       " '하': 74,\n",
       " '게': 75,\n",
       " '이해': 76,\n",
       " '할': 77,\n",
       " '것': 78,\n",
       " '만': 79,\n",
       " '..': 80,\n",
       " '재밌': 81,\n",
       " '고질라': 82,\n",
       " '니무': 83,\n",
       " '귀엽': 84,\n",
       " '능': 85,\n",
       " 'ㅋㅋ': 86,\n",
       " '오페라': 87,\n",
       " '화': 88,\n",
       " '라고': 89,\n",
       " '해야': 90,\n",
       " '작품': 91,\n",
       " '극단': 92,\n",
       " '평갈': 93,\n",
       " '림': 94,\n",
       " '어쩔': 95,\n",
       " '없': 96,\n",
       " '장르': 97,\n",
       " '무협': 98,\n",
       " '인데': 99,\n",
       " '기': 100,\n",
       " '엔': 101,\n",
       " '코믹': 102,\n",
       " '던데': 103,\n",
       " '막장': 104,\n",
       " '평점': 105,\n",
       " '점': 106,\n",
       " '도': 107,\n",
       " '아깝': 108,\n",
       " '나치': 109,\n",
       " '입장': 110,\n",
       " '에서': 111,\n",
       " '갑자기': 112,\n",
       " '연속': 113,\n",
       " '으로': 114,\n",
       " '네': 115,\n",
       " '뭔일': 116,\n",
       " '었': 117,\n",
       " '태권도': 118,\n",
       " '??': 119,\n",
       " '왜': 120,\n",
       " '봤': 121,\n",
       " '을까': 122,\n",
       " '예고편': 123,\n",
       " '-': 124,\n",
       " '개연': 125,\n",
       " '성': 126,\n",
       " '어요': 127,\n",
       " '별루': 128,\n",
       " '포켓': 129,\n",
       " '몬스터': 130,\n",
       " '짜': 131,\n",
       " 'ㅡㅡ': 132,\n",
       " ';;': 133,\n",
       " '쓰': 134,\n",
       " '레': 135,\n",
       " '사이코': 136,\n",
       " '마지막': 137,\n",
       " '더욱더': 138,\n",
       " '질': 139,\n",
       " '떨어트린': 140,\n",
       " '난': 141,\n",
       " '재미없': 142,\n",
       " '지': 143,\n",
       " 'ㅠㅠ': 144,\n",
       " '라따뚜이': 145,\n",
       " '서': 146,\n",
       " '스머프': 147,\n",
       " '봐서': 148,\n",
       " '그런가': 149,\n",
       " '포': 150,\n",
       " '풍': 151,\n",
       " '저그': 152,\n",
       " '나가': 153,\n",
       " '신다': 154,\n",
       " '영차영차': 155,\n",
       " '영차': 156}"
      ]
     },
     "execution_count": 38,
     "metadata": {},
     "output_type": "execute_result"
    }
   ],
   "source": [
    "vocab"
   ]
  },
  {
   "cell_type": "code",
   "execution_count": 39,
   "id": "9b50c590",
   "metadata": {},
   "outputs": [
    {
     "data": {
      "text/plain": [
       "157"
      ]
     },
     "execution_count": 39,
     "metadata": {},
     "output_type": "execute_result"
    }
   ],
   "source": [
    "len(vocab)"
   ]
  },
  {
   "cell_type": "markdown",
   "id": "92c82fea",
   "metadata": {},
   "source": [
    "## 3. 수치화"
   ]
  },
  {
   "cell_type": "code",
   "execution_count": 40,
   "id": "242c0c1c",
   "metadata": {},
   "outputs": [],
   "source": [
    "def numericalize(sent, vocab):\n",
    "    temp = [] # 문장의 토큰(형태소) 정수를 담을 리스트\n",
    "    for token in sent:\n",
    "        # 해당 토큰(형태소)이 이미 만든 사전에 없다면\n",
    "        if vocab.get(token) is None:\n",
    "            temp.append(vocab['<unk>']) # 0\n",
    "        else:\n",
    "            temp.append(vocab.get(token))\n",
    "    return temp"
   ]
  },
  {
   "cell_type": "code",
   "execution_count": 41,
   "id": "25fe9cad",
   "metadata": {},
   "outputs": [
    {
     "name": "stdout",
     "output_type": "stream",
     "text": [
      "([2, 3, 4, 5, 6, 7, 8, 9, 10, 11, 12, 13, 14], 1)\n"
     ]
    }
   ],
   "source": [
    "numerical_data = [(numericalize(sent, vocab), label)\n",
    "                 for sent, label in sample_data]\n",
    "\n",
    "print(numerical_data[0])"
   ]
  },
  {
   "cell_type": "code",
   "execution_count": 42,
   "id": "881343fd",
   "metadata": {},
   "outputs": [
    {
     "name": "stdout",
     "output_type": "stream",
     "text": [
      "([150, 151, 152, 51, 153, 154, 155, 156], 0)\n"
     ]
    }
   ],
   "source": [
    "print(numerical_data[-1])"
   ]
  },
  {
   "cell_type": "code",
   "execution_count": 43,
   "id": "800429ee",
   "metadata": {},
   "outputs": [
    {
     "data": {
      "text/plain": [
       "20"
      ]
     },
     "execution_count": 43,
     "metadata": {},
     "output_type": "execute_result"
    }
   ],
   "source": [
    "len(numerical_data)"
   ]
  },
  {
   "cell_type": "markdown",
   "id": "30d68792",
   "metadata": {},
   "source": [
    "### Bag of Words"
   ]
  },
  {
   "cell_type": "code",
   "execution_count": 45,
   "id": "5214e230",
   "metadata": {},
   "outputs": [
    {
     "name": "stdout",
     "output_type": "stream",
     "text": [
      "torch.Size([20, 157])\n",
      "tensor(2917)\n"
     ]
    }
   ],
   "source": [
    "import torch\n",
    "from collections import Counter\n",
    "\n",
    "num_docs = len(numerical_data) # 20\n",
    "num_vocab = len(vocab) # 157\n",
    "term_matrix = torch.zeros(num_docs, num_vocab)\n",
    "\n",
    "for i, (sent, label) in enumerate(numerical_data):\n",
    "    tokens, cnts = zip(*list(Counter(sent).items()))\n",
    "    term_matrix[i, torch.LongTensor(tokens)] = torch.FloatTensor(cnts)\n",
    "    \n",
    "print(term_matrix.shape)\n",
    "print(term_matrix.eq(0).sum())"
   ]
  },
  {
   "cell_type": "code",
   "execution_count": 57,
   "id": "eb0d31a0",
   "metadata": {},
   "outputs": [
    {
     "data": {
      "text/plain": [
       "tensor([[0., 0., 1.,  ..., 0., 0., 0.],\n",
       "        [0., 0., 0.,  ..., 0., 0., 0.],\n",
       "        [0., 0., 0.,  ..., 0., 0., 0.],\n",
       "        ...,\n",
       "        [0., 0., 0.,  ..., 0., 0., 0.],\n",
       "        [0., 0., 0.,  ..., 0., 0., 0.],\n",
       "        [0., 0., 0.,  ..., 1., 1., 1.]])"
      ]
     },
     "execution_count": 57,
     "metadata": {},
     "output_type": "execute_result"
    }
   ],
   "source": [
    "term_matrix"
   ]
  },
  {
   "cell_type": "markdown",
   "id": "14a3e144",
   "metadata": {},
   "source": [
    "### Heap's Law \n",
    "- 문장이 많아질수록 사용되는 고유 단어 개수는 로그함수적으로 증가한다"
   ]
  },
  {
   "cell_type": "code",
   "execution_count": 85,
   "id": "2814a480",
   "metadata": {},
   "outputs": [
    {
     "data": {
      "image/png": "[encoded data removed]",
      "text/plain": [
       "<Figure size 640x480 with 1 Axes>"
      ]
     },
     "metadata": {},
     "output_type": "display_data"
    }
   ],
   "source": [
    "# 주피터노트북 창 내부에 그림 출력\n",
    "%matplotlib inline\n",
    "\n",
    "import matplotlib.pyplot as plt\n",
    "\n",
    "global_unique = []\n",
    "global_unique_cnt = []\n",
    "\n",
    "for sent in data[:10000]:\n",
    "    unique = set(sent[0]) # 문장의 형태소 리스트\n",
    "    global_unique += list(unique)\n",
    "    \n",
    "    # 문장들 전체로 봤을 때 중복되는 형태소를 또 거름\n",
    "    global_unique = list(set(global_unique))\n",
    "    \n",
    "    # 문장이 하나하나 돌아가며 그때그때의 고유단어개수를 리스트 저장\n",
    "    global_unique_cnt.append(len(global_unique))\n",
    "    \n",
    "fig, ax = plt.subplots(1,1)\n",
    "ax.plot(list(range(10000)), global_unique_cnt)\n",
    "plt.show()"
   ]
  },
  {
   "cell_type": "markdown",
   "id": "c17ef989",
   "metadata": {},
   "source": [
    "## 4. 문장 패딩"
   ]
  },
  {
   "cell_type": "code",
   "execution_count": 86,
   "id": "89e6d806",
   "metadata": {},
   "outputs": [
    {
     "name": "stdout",
     "output_type": "stream",
     "text": [
      "Before Length of Sentences: \n",
      "[13, 17, 6, 17, 1, 8, 38, 2, 6, 20, 19, 18, 3, 9, 11, 6, 5, 15, 15, 8]\n",
      "After Length of Sentences: \n",
      "[38, 38, 38, 38, 38, 38, 38, 38, 38, 38, 38, 38, 38, 38, 38, 38, 38, 38, 38, 38]\n",
      "([2, 3, 4, 5, 6, 7, 8, 9, 10, 11, 12, 13, 14, 1, 1, 1, 1, 1, 1, 1, 1, 1, 1, 1, 1, 1, 1, 1, 1, 1, 1, 1, 1, 1, 1, 1, 1, 1], 1)\n"
     ]
    }
   ],
   "source": [
    "print(\"Before Length of Sentences: \")\n",
    "print([len(sent) for sent, _ in numerical_data])\n",
    "# 각 문장의 형태소 개수들이 다 다름!\n",
    "\n",
    "max_len = max([len(sent) for (sent,_) in numerical_data])\n",
    "# 패딩 기준이 될 최대 형태소 개수를 저장 --> 38개\n",
    "\n",
    "# 패딩과정\n",
    "for sent, _ in numerical_data:\n",
    "    if len(sent) < max_len:\n",
    "        sent += [vocab['<pad>']] * (max_len - len(sent))\n",
    "        # [1] * (38 - 지금 문장의 형태소 수)\n",
    "        \n",
    "print(\"After Length of Sentences: \")\n",
    "print([len(sent) for sent,_ in numerical_data])\n",
    "print(numerical_data[0]) # 첫 문장이 1로 패딩된 예시 보여줌"
   ]
  },
  {
   "cell_type": "markdown",
   "id": "08a7c0b3",
   "metadata": {},
   "source": [
    "# *TorchText 패키지\n",
    "- 위 1-4 과정을 한번에 해결\n",
    "- 다음 4개 과정 거쳐 손쉽게 데이터 처리"
   ]
  },
  {
   "cell_type": "markdown",
   "id": "972a0dbd",
   "metadata": {},
   "source": [
    "## 1) 필드 지정"
   ]
  },
  {
   "cell_type": "code",
   "execution_count": 9,
   "id": "94a732f6",
   "metadata": {},
   "outputs": [],
   "source": [
    "from torchtext.legacy.data import Field\n",
    "from konlpy.tag import Mecab\n",
    "\n",
    "tokenizer = Mecab('C:/mecab/mecab-ko-dic')\n",
    "\n",
    "TEXT = Field(sequential=True,\n",
    "            use_vocab=True,\n",
    "            tokenize=tokenizer.morphs,\n",
    "            lower=True,\n",
    "            batch_first=True)\n",
    "\n",
    "LABEL = Field(sequential=True,\n",
    "             use_vocab=False,\n",
    "             preprocessing=lambda x:int(*x),\n",
    "             batch_first=True,\n",
    "             is_target=True)\n",
    "\n",
    "ID = Field(sequential=False,\n",
    "          use_vocab=False,\n",
    "          is_target=False)"
   ]
  },
  {
   "cell_type": "markdown",
   "id": "dd20186d",
   "metadata": {},
   "source": [
    "## 2) 데이터셋 만들기"
   ]
  },
  {
   "cell_type": "code",
   "execution_count": 10,
   "id": "1aa62490",
   "metadata": {},
   "outputs": [],
   "source": [
    "from torchtext.legacy.data import TabularDataset\n",
    "\n",
    "dataset = TabularDataset(path='./data/nsmc/ratings.txt',\n",
    "                        format='tsv',\n",
    "                        fields=[('id',ID),('text',TEXT),('label',LABEL)],\n",
    "                        skip_header=True)"
   ]
  },
  {
   "cell_type": "markdown",
   "id": "61912cf7",
   "metadata": {},
   "source": [
    "## 3) 단어장 생성"
   ]
  },
  {
   "cell_type": "code",
   "execution_count": 13,
   "id": "42300af6",
   "metadata": {},
   "outputs": [
    {
     "name": "stdout",
     "output_type": "stream",
     "text": [
      "Total vocabulary: 60825\n",
      "Token for \"<unk>\": 0\n",
      "Token for \"<pad>\": 1\n"
     ]
    }
   ],
   "source": [
    "TEXT.build_vocab(dataset)\n",
    "\n",
    "print('Total vocabulary: {}'.format(len(TEXT.vocab)))\n",
    "print('Token for \"<unk>\": {}'.format(TEXT.vocab.stoi['<unk>']))\n",
    "print('Token for \"<pad>\": {}'.format(TEXT.vocab.stoi['<pad>']))"
   ]
  },
  {
   "cell_type": "markdown",
   "id": "7c6a8e3f",
   "metadata": {},
   "source": [
    "## 4) 데이터 로더 설정"
   ]
  },
  {
   "cell_type": "code",
   "execution_count": 15,
   "id": "118a2a7d",
   "metadata": {
    "scrolled": true
   },
   "outputs": [
    {
     "ename": "TypeError",
     "evalue": "object of type 'int' has no len()",
     "output_type": "error",
     "traceback": [
      "\u001b[1;31m---------------------------------------------------------------------------\u001b[0m",
      "\u001b[1;31mTypeError\u001b[0m                                 Traceback (most recent call last)",
      "\u001b[1;32m~\\AppData\\Local\\Temp\\ipykernel_19344\\1274332622.py\u001b[0m in \u001b[0;36m<module>\u001b[1;34m\u001b[0m\n\u001b[0;32m      7\u001b[0m                       device=device)\n\u001b[0;32m      8\u001b[0m \u001b[1;33m\u001b[0m\u001b[0m\n\u001b[1;32m----> 9\u001b[1;33m \u001b[1;32mfor\u001b[0m \u001b[0mbatch\u001b[0m \u001b[1;32min\u001b[0m \u001b[0mdata_loader\u001b[0m\u001b[1;33m:\u001b[0m\u001b[1;33m\u001b[0m\u001b[1;33m\u001b[0m\u001b[0m\n\u001b[0m\u001b[0;32m     10\u001b[0m     \u001b[1;32mbreak\u001b[0m\u001b[1;33m\u001b[0m\u001b[1;33m\u001b[0m\u001b[0m\n\u001b[0;32m     11\u001b[0m \u001b[1;33m\u001b[0m\u001b[0m\n",
      "\u001b[1;32m~\\anaconda3\\envs\\nlp\\lib\\site-packages\\torchtext\\legacy\\data\\iterator.py\u001b[0m in \u001b[0;36m__iter__\u001b[1;34m(self)\u001b[0m\n\u001b[0;32m    158\u001b[0m                     \u001b[1;32melse\u001b[0m\u001b[1;33m:\u001b[0m\u001b[1;33m\u001b[0m\u001b[1;33m\u001b[0m\u001b[0m\n\u001b[0;32m    159\u001b[0m                         \u001b[0mminibatch\u001b[0m\u001b[1;33m.\u001b[0m\u001b[0msort\u001b[0m\u001b[1;33m(\u001b[0m\u001b[0mkey\u001b[0m\u001b[1;33m=\u001b[0m\u001b[0mself\u001b[0m\u001b[1;33m.\u001b[0m\u001b[0msort_key\u001b[0m\u001b[1;33m,\u001b[0m \u001b[0mreverse\u001b[0m\u001b[1;33m=\u001b[0m\u001b[1;32mTrue\u001b[0m\u001b[1;33m)\u001b[0m\u001b[1;33m\u001b[0m\u001b[1;33m\u001b[0m\u001b[0m\n\u001b[1;32m--> 160\u001b[1;33m                 \u001b[1;32myield\u001b[0m \u001b[0mBatch\u001b[0m\u001b[1;33m(\u001b[0m\u001b[0mminibatch\u001b[0m\u001b[1;33m,\u001b[0m \u001b[0mself\u001b[0m\u001b[1;33m.\u001b[0m\u001b[0mdataset\u001b[0m\u001b[1;33m,\u001b[0m \u001b[0mself\u001b[0m\u001b[1;33m.\u001b[0m\u001b[0mdevice\u001b[0m\u001b[1;33m)\u001b[0m\u001b[1;33m\u001b[0m\u001b[1;33m\u001b[0m\u001b[0m\n\u001b[0m\u001b[0;32m    161\u001b[0m             \u001b[1;32mif\u001b[0m \u001b[1;32mnot\u001b[0m \u001b[0mself\u001b[0m\u001b[1;33m.\u001b[0m\u001b[0mrepeat\u001b[0m\u001b[1;33m:\u001b[0m\u001b[1;33m\u001b[0m\u001b[1;33m\u001b[0m\u001b[0m\n\u001b[0;32m    162\u001b[0m                 \u001b[1;32mreturn\u001b[0m\u001b[1;33m\u001b[0m\u001b[1;33m\u001b[0m\u001b[0m\n",
      "\u001b[1;32m~\\anaconda3\\envs\\nlp\\lib\\site-packages\\torchtext\\legacy\\data\\batch.py\u001b[0m in \u001b[0;36m__init__\u001b[1;34m(self, data, dataset, device)\u001b[0m\n\u001b[0;32m     32\u001b[0m                 \u001b[1;32mif\u001b[0m \u001b[0mfield\u001b[0m \u001b[1;32mis\u001b[0m \u001b[1;32mnot\u001b[0m \u001b[1;32mNone\u001b[0m\u001b[1;33m:\u001b[0m\u001b[1;33m\u001b[0m\u001b[1;33m\u001b[0m\u001b[0m\n\u001b[0;32m     33\u001b[0m                     \u001b[0mbatch\u001b[0m \u001b[1;33m=\u001b[0m \u001b[1;33m[\u001b[0m\u001b[0mgetattr\u001b[0m\u001b[1;33m(\u001b[0m\u001b[0mx\u001b[0m\u001b[1;33m,\u001b[0m \u001b[0mname\u001b[0m\u001b[1;33m)\u001b[0m \u001b[1;32mfor\u001b[0m \u001b[0mx\u001b[0m \u001b[1;32min\u001b[0m \u001b[0mdata\u001b[0m\u001b[1;33m]\u001b[0m\u001b[1;33m\u001b[0m\u001b[1;33m\u001b[0m\u001b[0m\n\u001b[1;32m---> 34\u001b[1;33m                     \u001b[0msetattr\u001b[0m\u001b[1;33m(\u001b[0m\u001b[0mself\u001b[0m\u001b[1;33m,\u001b[0m \u001b[0mname\u001b[0m\u001b[1;33m,\u001b[0m \u001b[0mfield\u001b[0m\u001b[1;33m.\u001b[0m\u001b[0mprocess\u001b[0m\u001b[1;33m(\u001b[0m\u001b[0mbatch\u001b[0m\u001b[1;33m,\u001b[0m \u001b[0mdevice\u001b[0m\u001b[1;33m=\u001b[0m\u001b[0mdevice\u001b[0m\u001b[1;33m)\u001b[0m\u001b[1;33m)\u001b[0m\u001b[1;33m\u001b[0m\u001b[1;33m\u001b[0m\u001b[0m\n\u001b[0m\u001b[0;32m     35\u001b[0m \u001b[1;33m\u001b[0m\u001b[0m\n\u001b[0;32m     36\u001b[0m     \u001b[1;33m@\u001b[0m\u001b[0mclassmethod\u001b[0m\u001b[1;33m\u001b[0m\u001b[1;33m\u001b[0m\u001b[0m\n",
      "\u001b[1;32m~\\anaconda3\\envs\\nlp\\lib\\site-packages\\torchtext\\legacy\\data\\field.py\u001b[0m in \u001b[0;36mprocess\u001b[1;34m(self, batch, device)\u001b[0m\n\u001b[0;32m    228\u001b[0m             \u001b[1;32mand\u001b[0m \u001b[0mcustom\u001b[0m \u001b[0mpostprocessing\u001b[0m \u001b[0mPipeline\u001b[0m\u001b[1;33m.\u001b[0m\u001b[1;33m\u001b[0m\u001b[1;33m\u001b[0m\u001b[0m\n\u001b[0;32m    229\u001b[0m         \"\"\"\n\u001b[1;32m--> 230\u001b[1;33m         \u001b[0mpadded\u001b[0m \u001b[1;33m=\u001b[0m \u001b[0mself\u001b[0m\u001b[1;33m.\u001b[0m\u001b[0mpad\u001b[0m\u001b[1;33m(\u001b[0m\u001b[0mbatch\u001b[0m\u001b[1;33m)\u001b[0m\u001b[1;33m\u001b[0m\u001b[1;33m\u001b[0m\u001b[0m\n\u001b[0m\u001b[0;32m    231\u001b[0m         \u001b[0mtensor\u001b[0m \u001b[1;33m=\u001b[0m \u001b[0mself\u001b[0m\u001b[1;33m.\u001b[0m\u001b[0mnumericalize\u001b[0m\u001b[1;33m(\u001b[0m\u001b[0mpadded\u001b[0m\u001b[1;33m,\u001b[0m \u001b[0mdevice\u001b[0m\u001b[1;33m=\u001b[0m\u001b[0mdevice\u001b[0m\u001b[1;33m)\u001b[0m\u001b[1;33m\u001b[0m\u001b[1;33m\u001b[0m\u001b[0m\n\u001b[0;32m    232\u001b[0m         \u001b[1;32mreturn\u001b[0m \u001b[0mtensor\u001b[0m\u001b[1;33m\u001b[0m\u001b[1;33m\u001b[0m\u001b[0m\n",
      "\u001b[1;32m~\\anaconda3\\envs\\nlp\\lib\\site-packages\\torchtext\\legacy\\data\\field.py\u001b[0m in \u001b[0;36mpad\u001b[1;34m(self, minibatch)\u001b[0m\n\u001b[0;32m    246\u001b[0m             \u001b[1;32mreturn\u001b[0m \u001b[0mminibatch\u001b[0m\u001b[1;33m\u001b[0m\u001b[1;33m\u001b[0m\u001b[0m\n\u001b[0;32m    247\u001b[0m         \u001b[1;32mif\u001b[0m \u001b[0mself\u001b[0m\u001b[1;33m.\u001b[0m\u001b[0mfix_length\u001b[0m \u001b[1;32mis\u001b[0m \u001b[1;32mNone\u001b[0m\u001b[1;33m:\u001b[0m\u001b[1;33m\u001b[0m\u001b[1;33m\u001b[0m\u001b[0m\n\u001b[1;32m--> 248\u001b[1;33m             \u001b[0mmax_len\u001b[0m \u001b[1;33m=\u001b[0m \u001b[0mmax\u001b[0m\u001b[1;33m(\u001b[0m\u001b[0mlen\u001b[0m\u001b[1;33m(\u001b[0m\u001b[0mx\u001b[0m\u001b[1;33m)\u001b[0m \u001b[1;32mfor\u001b[0m \u001b[0mx\u001b[0m \u001b[1;32min\u001b[0m \u001b[0mminibatch\u001b[0m\u001b[1;33m)\u001b[0m\u001b[1;33m\u001b[0m\u001b[1;33m\u001b[0m\u001b[0m\n\u001b[0m\u001b[0;32m    249\u001b[0m         \u001b[1;32melse\u001b[0m\u001b[1;33m:\u001b[0m\u001b[1;33m\u001b[0m\u001b[1;33m\u001b[0m\u001b[0m\n\u001b[0;32m    250\u001b[0m             max_len = self.fix_length + (\n",
      "\u001b[1;32m~\\anaconda3\\envs\\nlp\\lib\\site-packages\\torchtext\\legacy\\data\\field.py\u001b[0m in \u001b[0;36m<genexpr>\u001b[1;34m(.0)\u001b[0m\n\u001b[0;32m    246\u001b[0m             \u001b[1;32mreturn\u001b[0m \u001b[0mminibatch\u001b[0m\u001b[1;33m\u001b[0m\u001b[1;33m\u001b[0m\u001b[0m\n\u001b[0;32m    247\u001b[0m         \u001b[1;32mif\u001b[0m \u001b[0mself\u001b[0m\u001b[1;33m.\u001b[0m\u001b[0mfix_length\u001b[0m \u001b[1;32mis\u001b[0m \u001b[1;32mNone\u001b[0m\u001b[1;33m:\u001b[0m\u001b[1;33m\u001b[0m\u001b[1;33m\u001b[0m\u001b[0m\n\u001b[1;32m--> 248\u001b[1;33m             \u001b[0mmax_len\u001b[0m \u001b[1;33m=\u001b[0m \u001b[0mmax\u001b[0m\u001b[1;33m(\u001b[0m\u001b[0mlen\u001b[0m\u001b[1;33m(\u001b[0m\u001b[0mx\u001b[0m\u001b[1;33m)\u001b[0m \u001b[1;32mfor\u001b[0m \u001b[0mx\u001b[0m \u001b[1;32min\u001b[0m \u001b[0mminibatch\u001b[0m\u001b[1;33m)\u001b[0m\u001b[1;33m\u001b[0m\u001b[1;33m\u001b[0m\u001b[0m\n\u001b[0m\u001b[0;32m    249\u001b[0m         \u001b[1;32melse\u001b[0m\u001b[1;33m:\u001b[0m\u001b[1;33m\u001b[0m\u001b[1;33m\u001b[0m\u001b[0m\n\u001b[0;32m    250\u001b[0m             max_len = self.fix_length + (\n",
      "\u001b[1;31mTypeError\u001b[0m: object of type 'int' has no len()"
     ]
    }
   ],
   "source": [
    "from torchtext.legacy.data import Iterator\n",
    "\n",
    "device = 'cuda' if torch.cuda.is_available() else 'cpu'\n",
    "\n",
    "data_loader = Iterator(dataset=dataset,\n",
    "                      batch_size=3,\n",
    "                      device=device)\n",
    "\n",
    "for batch in data_loader:\n",
    "    break\n",
    "    \n",
    "# 필드에서 정의한 이름으로 호출 가능\n",
    "print(batch.text.size(), batch.label.size())\n",
    "print(batch.text)"
   ]
  },
  {
   "cell_type": "code",
   "execution_count": null,
   "id": "d5a3ca46",
   "metadata": {},
   "outputs": [],
   "source": []
  }
 ],
 "metadata": {
  "kernelspec": {
   "display_name": "Python 3 (ipykernel)",
   "language": "python",
   "name": "python3"
  },
  "language_info": {
   "codemirror_mode": {
    "name": "ipython",
    "version": 3
   },
   "file_extension": ".py",
   "mimetype": "text/x-python",
   "name": "python",
   "nbconvert_exporter": "python",
   "pygments_lexer": "ipython3",
   "version": "3.7.13"
  }
 },
 "nbformat": 4,
 "nbformat_minor": 5
}
