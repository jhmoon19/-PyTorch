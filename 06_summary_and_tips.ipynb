{
 "cells": [
  {
   "cell_type": "markdown",
   "id": "01112b0f",
   "metadata": {},
   "source": [
    "# Batch & Mini Batch\n",
    "## Dataset & DataLoader\n",
    "- 미니배치를 잘 수행하도록 도와주는 모듈"
   ]
  },
  {
   "cell_type": "code",
   "execution_count": 2,
   "id": "6946b9be",
   "metadata": {},
   "outputs": [
    {
     "name": "stdout",
     "output_type": "stream",
     "text": [
      "size of mini-batch x: torch.Size([64, 3]), t: torch.Size([64])\n"
     ]
    },
    {
     "name": "stderr",
     "output_type": "stream",
     "text": [
      "C:\\Users\\answl\\AppData\\Local\\Temp\\ipykernel_23220\\669473300.py:12: DeprecationWarning: `np.float` is a deprecated alias for the builtin `float`. To silence this warning, use `float` by itself. Doing this will not modify any behavior and is safe. If you specifically wanted the numpy scalar type, use `np.float64` here.\n",
      "Deprecated in NumPy 1.20; for more details and guidance: https://numpy.org/devdocs/release/1.20.0-notes.html#deprecations\n",
      "  dtype=np.float)\n",
      "C:\\Users\\answl\\AppData\\Local\\Temp\\ipykernel_23220\\669473300.py:33: UserWarning: Creating a tensor from a list of numpy.ndarrays is extremely slow. Please consider converting the list to a single numpy.ndarray with numpy.array() before converting to a tensor. (Triggered internally at C:\\cb\\pytorch_1000000000000\\work\\torch\\csrc\\utils\\tensor_new.cpp:233.)\n",
      "  return (torch.FloatTensor(x), torch.LongTensor(t))\n",
      "C:\\Users\\answl\\AppData\\Local\\Temp\\ipykernel_23220\\669473300.py:33: DeprecationWarning: an integer is required (got type numpy.float64).  Implicit conversion to integers using __int__ is deprecated, and may be removed in a future version of Python.\n",
      "  return (torch.FloatTensor(x), torch.LongTensor(t))\n"
     ]
    }
   ],
   "source": [
    "import torch\n",
    "from torch.utils.data import Dataset, DataLoader\n",
    "\n",
    "class CustomDataset(Dataset):\n",
    "    def __init__(self, data_path):\n",
    "        # 데이터 불러오기\n",
    "        import numpy as np\n",
    "        \n",
    "        with open(data_path, 'r', encoding='utf8') as file:\n",
    "            data = file.read().splitlines()\n",
    "            data = np.array([line.split('\\t') for line in data],\n",
    "                           dtype=np.float)\n",
    "            \n",
    "        \"\"\"\n",
    "        데이터는 1000*4인 2차원 행렬\n",
    "        첫 3열은 입력 데이터, 마지막 열은 타깃 데이터\n",
    "        \"\"\"\n",
    "        self.x = data[:, :-1]\n",
    "        self.t = data[:, -1]\n",
    "        \n",
    "    def __getitem__(self, index):\n",
    "        # index에 해당하는 데이터를 (입력,타깃) 형태로 가져옴\n",
    "        return (self.x[index], self.t[index])\n",
    "    \n",
    "    def __len__(self):\n",
    "        # 데이터의 총 크기 (배치)\n",
    "        return len(self.x)\n",
    "    \n",
    "    def custom_collate_fn(self, data):\n",
    "        # __getitem__ 으로 가져온 data=(x,t) 데이터를 전처리\n",
    "        # 여기서는 텐서로 전환\n",
    "        x, t = list(zip(*data))\n",
    "        return (torch.FloatTensor(x), torch.LongTensor(t))\n",
    "    \n",
    "example_dataset_path = \"./data/example_dataset.tsv\"\n",
    "\n",
    "# 데이터셋 선언\n",
    "custom_dataset = CustomDataset(data_path = example_dataset_path)\n",
    "\n",
    "# 데이터로더 선언\n",
    "train_loader = DataLoader(dataset=custom_dataset,\n",
    "                         batch_size=64, # 미니배치 크기\n",
    "                         collate_fn=custom_dataset.custom_collate_fn,\n",
    "                          # 데이터 전처리\n",
    "                          # collate: 수집하다, 모으다\n",
    "                         shuffle=True) # 셔플도 가능\n",
    "\n",
    "# 테스트\n",
    "for x,y in train_loader:\n",
    "    print(\"size of mini-batch x: {}, t: {}\".format(x.size(), y.size()))\n",
    "    break"
   ]
  },
  {
   "cell_type": "code",
   "execution_count": 3,
   "id": "38afb72c",
   "metadata": {},
   "outputs": [
    {
     "data": {
      "text/plain": [
       "<torch.utils.data.dataloader.DataLoader at 0x22ea2320730>"
      ]
     },
     "execution_count": 3,
     "metadata": {},
     "output_type": "execute_result"
    }
   ],
   "source": [
    "train_loader"
   ]
  },
  {
   "cell_type": "code",
   "execution_count": 12,
   "id": "9ad8cc20",
   "metadata": {},
   "outputs": [
    {
     "name": "stdout",
     "output_type": "stream",
     "text": [
      "[[0.95254204 0.07071162 0.54187905 1.        ]\n",
      " [0.81424592 0.99335066 0.12949903 0.        ]\n",
      " [0.14244222 0.81085676 0.21760134 0.        ]\n",
      " ...\n",
      " [0.89683477 0.52585911 0.26526819 0.        ]\n",
      " [0.45416235 0.42939549 0.75025141 0.        ]\n",
      " [0.63482525 0.88791162 0.86979562 1.        ]]\n"
     ]
    },
    {
     "name": "stderr",
     "output_type": "stream",
     "text": [
      "C:\\Users\\answl\\AppData\\Local\\Temp\\ipykernel_23220\\2197539283.py:3: DeprecationWarning: `np.float` is a deprecated alias for the builtin `float`. To silence this warning, use `float` by itself. Doing this will not modify any behavior and is safe. If you specifically wanted the numpy scalar type, use `np.float64` here.\n",
      "Deprecated in NumPy 1.20; for more details and guidance: https://numpy.org/devdocs/release/1.20.0-notes.html#deprecations\n",
      "  data = np.array([line.split('\\t') for line in data], dtype=np.float)\n"
     ]
    }
   ],
   "source": [
    "import numpy as np\n",
    "\n",
    "data = np.array([line.split('\\t') for line in data], dtype=np.float)\n",
    "\n",
    "print(data)"
   ]
  },
  {
   "cell_type": "code",
   "execution_count": 13,
   "id": "df40e879",
   "metadata": {},
   "outputs": [
    {
     "data": {
      "text/plain": [
       "numpy.ndarray"
      ]
     },
     "execution_count": 13,
     "metadata": {},
     "output_type": "execute_result"
    }
   ],
   "source": [
    "type(data)"
   ]
  },
  {
   "cell_type": "code",
   "execution_count": 14,
   "id": "477c8155",
   "metadata": {},
   "outputs": [
    {
     "data": {
      "text/plain": [
       "1000"
      ]
     },
     "execution_count": 14,
     "metadata": {},
     "output_type": "execute_result"
    }
   ],
   "source": [
    "len(data)"
   ]
  },
  {
   "cell_type": "code",
   "execution_count": 15,
   "id": "fc6f3cb4",
   "metadata": {},
   "outputs": [
    {
     "data": {
      "text/plain": [
       "(1000, 4)"
      ]
     },
     "execution_count": 15,
     "metadata": {},
     "output_type": "execute_result"
    }
   ],
   "source": [
    "data.shape"
   ]
  },
  {
   "cell_type": "code",
   "execution_count": 18,
   "id": "40c4b4bc",
   "metadata": {},
   "outputs": [
    {
     "data": {
      "text/plain": [
       "array([[0.95254204, 0.07071162, 0.54187905],\n",
       "       [0.81424592, 0.99335066, 0.12949903],\n",
       "       [0.14244222, 0.81085676, 0.21760134],\n",
       "       ...,\n",
       "       [0.89683477, 0.52585911, 0.26526819],\n",
       "       [0.45416235, 0.42939549, 0.75025141],\n",
       "       [0.63482525, 0.88791162, 0.86979562]])"
      ]
     },
     "execution_count": 18,
     "metadata": {},
     "output_type": "execute_result"
    }
   ],
   "source": [
    "data[:, :-1]"
   ]
  },
  {
   "cell_type": "code",
   "execution_count": 19,
   "id": "0ef096c5",
   "metadata": {},
   "outputs": [
    {
     "data": {
      "text/plain": [
       "(array([0.95254204, 0.07071162, 0.54187905]), 1.0)"
      ]
     },
     "execution_count": 19,
     "metadata": {},
     "output_type": "execute_result"
    }
   ],
   "source": [
    "custom_dataset[0]"
   ]
  }
 ],
 "metadata": {
  "kernelspec": {
   "display_name": "Python 3 (ipykernel)",
   "language": "python",
   "name": "python3"
  },
  "language_info": {
   "codemirror_mode": {
    "name": "ipython",
    "version": 3
   },
   "file_extension": ".py",
   "mimetype": "text/x-python",
   "name": "python",
   "nbconvert_exporter": "python",
   "pygments_lexer": "ipython3",
   "version": "3.9.13"
  }
 },
 "nbformat": 4,
 "nbformat_minor": 5
}
