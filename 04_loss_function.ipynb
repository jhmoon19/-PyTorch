{
 "cells": [
  {
   "cell_type": "markdown",
   "id": "649ad318",
   "metadata": {},
   "source": [
    "# 손실함수\n",
    "## 출력값을 확률로 표현하기 \n",
    "- sigmoid 함수 사용(--> 이진확률벡터--> BCE 손실함수 적용)"
   ]
  },
  {
   "cell_type": "code",
   "execution_count": 1,
   "id": "759c22b2",
   "metadata": {},
   "outputs": [
    {
     "name": "stdout",
     "output_type": "stream",
     "text": [
      "0.42035338282585144\n"
     ]
    }
   ],
   "source": [
    "import torch\n",
    "import torch.nn as nn\n",
    "\n",
    "torch.manual_seed(70)\n",
    "\n",
    "class Network(nn.Module):\n",
    "    def __init__(self, input_size, hidden_size, output_size):\n",
    "        super(Network, self).__init__()\n",
    "        \n",
    "        self.linear_ih = nn.Linear(in_features=input_size,\n",
    "                                  out_features=hidden_size)\n",
    "        \n",
    "        self.linear_ho = nn.Linear(in_features=hidden_size,\n",
    "                                  out_features=output_size)\n",
    "        \n",
    "        self.activation_layer = nn.Sigmoid()\n",
    "        \n",
    "    def forward(self, x):\n",
    "        z1 = self.linear_ih(x)\n",
    "        a1 = self.activation_layer(z1)\n",
    "        z2 = self.linear_ho(a1)\n",
    "        y = self.activation_layer(z2)\n",
    "        return y\n",
    "    \n",
    "x = torch.Tensor([[0,1]])\n",
    "\n",
    "net = Network(input_size=2, hidden_size=2, output_size=1)\n",
    "y = net(x)\n",
    "print(y.item())"
   ]
  },
  {
   "cell_type": "markdown",
   "id": "a3711e54",
   "metadata": {},
   "source": [
    "## 확률론적 접근\n",
    "### 엔트로피"
   ]
  },
  {
   "cell_type": "code",
   "execution_count": 2,
   "id": "f8c3744c",
   "metadata": {},
   "outputs": [
    {
     "name": "stdout",
     "output_type": "stream",
     "text": [
      "0.673\n",
      "0.0\n"
     ]
    }
   ],
   "source": [
    "p = torch.Tensor([0.4, 0.6])\n",
    "q = torch.Tensor([0.0, 1.0])\n",
    "\n",
    "def self_information(x):\n",
    "    return -torch.log(x)\n",
    "\n",
    "def entropy(x):\n",
    "    # log(0)=NaN 값이므로 아주 작은 수를 더해서 방지\n",
    "    e = 1e-30\n",
    "    return torch.sum((x+e)*self_information(x+e))\n",
    "\n",
    "# 앞면이 40%, 뒷면이 60%인 확률의 동전\n",
    "print(entropy(p).numpy().round(4))\n",
    "# 뒷면만 100% 나오는 확실한 동전\n",
    "print(entropy(q).numpy().round(4))"
   ]
  },
  {
   "cell_type": "code",
   "execution_count": 6,
   "id": "11a43b98",
   "metadata": {},
   "outputs": [
    {
     "data": {
      "text/plain": [
       "tensor(6)"
      ]
     },
     "execution_count": 6,
     "metadata": {},
     "output_type": "execute_result"
    }
   ],
   "source": [
    "torch.sum(torch.tensor([[1,2,3]]))"
   ]
  },
  {
   "cell_type": "code",
   "execution_count": 7,
   "id": "7510121a",
   "metadata": {},
   "outputs": [
    {
     "data": {
      "text/plain": [
       "tensor(6.)"
      ]
     },
     "execution_count": 7,
     "metadata": {},
     "output_type": "execute_result"
    }
   ],
   "source": [
    "torch.sum(torch.Tensor([[1,2,3]]))"
   ]
  },
  {
   "cell_type": "code",
   "execution_count": 9,
   "id": "0a60fe65",
   "metadata": {},
   "outputs": [
    {
     "data": {
      "text/plain": [
       "tensor([-1.2040])"
      ]
     },
     "execution_count": 9,
     "metadata": {},
     "output_type": "execute_result"
    }
   ],
   "source": [
    "torch.log(torch.tensor([0.3]))"
   ]
  },
  {
   "cell_type": "markdown",
   "id": "1b9c1c61",
   "metadata": {},
   "source": [
    "## KL-divergence"
   ]
  },
  {
   "cell_type": "code",
   "execution_count": 10,
   "id": "60382430",
   "metadata": {},
   "outputs": [
    {
     "name": "stdout",
     "output_type": "stream",
     "text": [
      "tensor(0.0204)\n",
      "tensor(33.8456)\n"
     ]
    }
   ],
   "source": [
    "def KL_divergence(q,p):\n",
    "    \"\"\"\n",
    "    q: 예측 확률\n",
    "    p: 타깃 확률\n",
    "    \"\"\"\n",
    "    e = 1e-30\n",
    "    return torch.sum((p+e)*torch.log(p+e) - (p+e)*torch.log(q+e))\n",
    "\n",
    "u = torch.Tensor([0.5, 0.5])\n",
    "print(KL_divergence(p,u))\n",
    "print(KL_divergence(q,u))"
   ]
  },
  {
   "cell_type": "code",
   "execution_count": 11,
   "id": "bc6179a9",
   "metadata": {},
   "outputs": [
    {
     "name": "stdout",
     "output_type": "stream",
     "text": [
      "tensor(0.0204)\n",
      "tensor(33.8456)\n"
     ]
    }
   ],
   "source": [
    "# 인자에 예측확률분포의 로그함수\n",
    "loss_function = nn.KLDivLoss(reduction='sum')\n",
    "e = 1e-30\n",
    "\n",
    "print(loss_function(torch.log(p+e), u+e))\n",
    "print(loss_function(torch.log(q+e), u+e))"
   ]
  },
  {
   "cell_type": "code",
   "execution_count": 13,
   "id": "0a6273c9",
   "metadata": {
    "scrolled": true
   },
   "outputs": [
    {
     "name": "stdout",
     "output_type": "stream",
     "text": [
      "tensor([[0., 1.]])\n",
      "tensor([[0.5796, 0.4204]], grad_fn=<CatBackward0>)\n",
      "tensor(0.8667, grad_fn=<SumBackward0>)\n"
     ]
    }
   ],
   "source": [
    "torch.manual_seed(70)\n",
    "\n",
    "x = torch.Tensor([[0,1]])\n",
    "t = torch.Tensor([1])\n",
    "\n",
    "net = Network(2,2,1)\n",
    "y = net(x)\n",
    "\n",
    "one_hot = torch.eye(2)\n",
    "# tensor([[1., 0.],\n",
    "#         [0., 1.]])\n",
    "prob_t = one_hot.index_select(dim=0, index=t.long())\n",
    "# t.long() : 실수 텐서 t를 정수텐서로 만들어줌.\n",
    "# .index_select(): 행 기준 1인덱스 행 선택\n",
    "prob_y = torch.cat([1-y, y], dim=1)\n",
    "# y: tensor([[0.4204]], grad_fn=<SigmoidBackward0>)\n",
    "# 1-y: tensor([[0.5796]], grad_fn=<RsubBackward1>)\n",
    "# 좌우로(1) 이어붙여주기 - cat\n",
    "\n",
    "print(prob_t) # tensor([[0., 1.]])\n",
    "print(prob_y) # tensor([[0.5796, 0.4204]], grad_fn=<CatBackward0>)\n",
    "\n",
    "loss_function = nn.KLDivLoss(reduction='sum')\n",
    "print(loss_function(torch.log(prob_y), prob_t))\n",
    "# tensor(0.8667, grad_fn=<SumBackward0>)"
   ]
  },
  {
   "cell_type": "code",
   "execution_count": 19,
   "id": "344ee92f",
   "metadata": {},
   "outputs": [
    {
     "data": {
      "text/plain": [
       "tensor([[0.5796]], grad_fn=<RsubBackward1>)"
      ]
     },
     "execution_count": 19,
     "metadata": {},
     "output_type": "execute_result"
    }
   ],
   "source": [
    "1-y"
   ]
  },
  {
   "cell_type": "code",
   "execution_count": 14,
   "id": "3f9a4661",
   "metadata": {},
   "outputs": [
    {
     "data": {
      "text/plain": [
       "tensor([[1., 0.],\n",
       "        [0., 1.]])"
      ]
     },
     "execution_count": 14,
     "metadata": {},
     "output_type": "execute_result"
    }
   ],
   "source": [
    "one_hot"
   ]
  },
  {
   "cell_type": "code",
   "execution_count": 15,
   "id": "eab5e61c",
   "metadata": {},
   "outputs": [
    {
     "data": {
      "text/plain": [
       "tensor([[1., 0., 0., 0., 0.],\n",
       "        [0., 1., 0., 0., 0.],\n",
       "        [0., 0., 1., 0., 0.],\n",
       "        [0., 0., 0., 1., 0.],\n",
       "        [0., 0., 0., 0., 1.]])"
      ]
     },
     "execution_count": 15,
     "metadata": {},
     "output_type": "execute_result"
    }
   ],
   "source": [
    "torch.eye(5)"
   ]
  },
  {
   "cell_type": "code",
   "execution_count": 16,
   "id": "b5357cde",
   "metadata": {},
   "outputs": [
    {
     "data": {
      "text/plain": [
       "tensor([1])"
      ]
     },
     "execution_count": 16,
     "metadata": {},
     "output_type": "execute_result"
    }
   ],
   "source": [
    "t.long()"
   ]
  },
  {
   "cell_type": "code",
   "execution_count": 17,
   "id": "8323eb42",
   "metadata": {},
   "outputs": [
    {
     "data": {
      "text/plain": [
       "tensor([1.])"
      ]
     },
     "execution_count": 17,
     "metadata": {},
     "output_type": "execute_result"
    }
   ],
   "source": [
    "t"
   ]
  },
  {
   "cell_type": "code",
   "execution_count": 18,
   "id": "8c6f9610",
   "metadata": {},
   "outputs": [
    {
     "data": {
      "text/plain": [
       "tensor([[0.4204]], grad_fn=<SigmoidBackward0>)"
      ]
     },
     "execution_count": 18,
     "metadata": {},
     "output_type": "execute_result"
    }
   ],
   "source": [
    "y"
   ]
  },
  {
   "cell_type": "markdown",
   "id": "e91201b6",
   "metadata": {},
   "source": [
    "## BCE Loss: 이진크로스엔트로피 손실"
   ]
  },
  {
   "cell_type": "code",
   "execution_count": 20,
   "id": "bf31ede7",
   "metadata": {},
   "outputs": [
    {
     "name": "stdout",
     "output_type": "stream",
     "text": [
      "tensor(0.8667, grad_fn=<BinaryCrossEntropyBackward0>)\n"
     ]
    }
   ],
   "source": [
    "torch.manual_seed(70)\n",
    "\n",
    "x = torch.Tensor([[0,1]])\n",
    "t = torch.Tensor([1])\n",
    "\n",
    "net = Network(2,2,1)\n",
    "y = net(x)\n",
    "\n",
    "loss_function = nn.BCELoss(reduction='sum')\n",
    "print(loss_function(y.squeeze(1), t))"
   ]
  },
  {
   "cell_type": "code",
   "execution_count": 29,
   "id": "d9a3e529",
   "metadata": {},
   "outputs": [
    {
     "name": "stdout",
     "output_type": "stream",
     "text": [
      "tensor([[0.8104],\n",
      "        [0.5761],\n",
      "        [0.5539],\n",
      "        [0.7081]], grad_fn=<SigmoidBackward0>)\n",
      "tensor(0.7226, grad_fn=<BinaryCrossEntropyBackward0>)\n"
     ]
    }
   ],
   "source": [
    "bce_loss = nn.BCELoss()\n",
    "sigmoid = nn.Sigmoid()\n",
    "\n",
    "probabilities = sigmoid(torch.randn(4,1,requires_grad=True))\n",
    "targets = torch.tensor([1,0,1,0], dtype=torch.float32).view(4,1)\n",
    "loss = bce_loss(probabilities, targets)\n",
    "\n",
    "print(probabilities)\n",
    "print(loss)"
   ]
  },
  {
   "cell_type": "code",
   "execution_count": 30,
   "id": "b455bfc8",
   "metadata": {},
   "outputs": [
    {
     "data": {
      "text/plain": [
       "tensor([[1.],\n",
       "        [0.],\n",
       "        [1.],\n",
       "        [0.]])"
      ]
     },
     "execution_count": 30,
     "metadata": {},
     "output_type": "execute_result"
    }
   ],
   "source": [
    "targets"
   ]
  },
  {
   "cell_type": "code",
   "execution_count": 31,
   "id": "f40463b6",
   "metadata": {},
   "outputs": [
    {
     "data": {
      "text/plain": [
       "tensor([[ 0.3460],\n",
       "        [-0.1633],\n",
       "        [-0.5894],\n",
       "        [-1.5458]], requires_grad=True)"
      ]
     },
     "execution_count": 31,
     "metadata": {},
     "output_type": "execute_result"
    }
   ],
   "source": [
    "torch.randn(4,1,requires_grad=True)"
   ]
  },
  {
   "cell_type": "markdown",
   "id": "69d16583",
   "metadata": {},
   "source": [
    "## softmax"
   ]
  },
  {
   "cell_type": "code",
   "execution_count": 21,
   "id": "946e3570",
   "metadata": {},
   "outputs": [
    {
     "name": "stdout",
     "output_type": "stream",
     "text": [
      "tensor([[0.0986, 0.0914, 0.0897, 0.0831, 0.1241, 0.0729, 0.1315, 0.1243, 0.0711,\n",
      "         0.1133]])\n"
     ]
    }
   ],
   "source": [
    "torch.manual_seed(70)\n",
    "\n",
    "# 선형결합 결과 텐서\n",
    "z = torch.rand(1,10)\n",
    "\n",
    "# 인자로 차원 지정해줘야 함.\n",
    "y = torch.softmax(z, dim=1)\n",
    "print(y)"
   ]
  },
  {
   "cell_type": "code",
   "execution_count": 22,
   "id": "72258711",
   "metadata": {},
   "outputs": [
    {
     "data": {
      "text/plain": [
       "tensor([[0.4350, 0.3591, 0.3411, 0.2644, 0.6656, 0.1341, 0.7236, 0.6668, 0.1091,\n",
       "         0.5745]])"
      ]
     },
     "execution_count": 22,
     "metadata": {},
     "output_type": "execute_result"
    }
   ],
   "source": [
    "z"
   ]
  },
  {
   "cell_type": "markdown",
   "id": "288aee38",
   "metadata": {},
   "source": [
    "## Cross Entropy Loss"
   ]
  },
  {
   "cell_type": "code",
   "execution_count": 23,
   "id": "073686dc",
   "metadata": {},
   "outputs": [
    {
     "name": "stdout",
     "output_type": "stream",
     "text": [
      "tensor(2.3930)\n"
     ]
    }
   ],
   "source": [
    "loss_function = nn.CrossEntropyLoss(reduction='sum')\n",
    "print(loss_function(z, t.long()))"
   ]
  },
  {
   "cell_type": "code",
   "execution_count": 25,
   "id": "29ed3103",
   "metadata": {},
   "outputs": [
    {
     "name": "stdout",
     "output_type": "stream",
     "text": [
      "tensor(2.3407, grad_fn=<NllLossBackward0>)\n"
     ]
    }
   ],
   "source": [
    "ce_loss = nn.CrossEntropyLoss()\n",
    "\"\"\"\n",
    "CEL은 각 입력이 클래스 하나에 속하고 \n",
    "각 클래스에는 고유한 인덱스가 있다고 가정\n",
    "\"\"\"\n",
    "outputs = torch.randn(3,5,requires_grad=True)\n",
    "# tensor([[ 1.3889,  0.5574, -1.1089,  0.1678, -0.5106],\n",
    "#         [-0.9303,  0.0338,  0.0661,  1.4811, -0.9629],\n",
    "#         [-1.9167,  1.0238,  0.6950, -0.7553, -0.0706]], requires_grad=True)\n",
    "\n",
    "targets = torch.tensor([1,0,3], dtype=torch.int64)\n",
    "# 각 샘플의 정답 클래스에 해당하는 인덱스를 나타내는 원소 3개\n",
    "\n",
    "loss = ce_loss(outputs, targets)\n",
    "print(loss)"
   ]
  },
  {
   "cell_type": "code",
   "execution_count": 26,
   "id": "bdcd5ce6",
   "metadata": {},
   "outputs": [
    {
     "data": {
      "text/plain": [
       "tensor([[ 1.3889,  0.5574, -1.1089,  0.1678, -0.5106],\n",
       "        [-0.9303,  0.0338,  0.0661,  1.4811, -0.9629],\n",
       "        [-1.9167,  1.0238,  0.6950, -0.7553, -0.0706]], requires_grad=True)"
      ]
     },
     "execution_count": 26,
     "metadata": {},
     "output_type": "execute_result"
    }
   ],
   "source": [
    "outputs"
   ]
  },
  {
   "cell_type": "markdown",
   "id": "d32a3f4f",
   "metadata": {},
   "source": [
    "# 추가내용) in <파이토치로 배우는 자연어처리>\n",
    "## Mean Squared Error (MSE, 평균제곱오차)"
   ]
  },
  {
   "cell_type": "code",
   "execution_count": 24,
   "id": "a49f4a17",
   "metadata": {},
   "outputs": [
    {
     "name": "stdout",
     "output_type": "stream",
     "text": [
      "tensor(1.7011, grad_fn=<MseLossBackward0>)\n"
     ]
    }
   ],
   "source": [
    "mse_loss = nn.MSELoss()\n",
    "outputs = torch.randn(3,5,requires_grad=True) # 신경망의 출력(예측)\n",
    "targets = torch.randn(3,5) # 실제 타깃값\n",
    "loss = mse_loss(outputs, targets) # L(y,y_hat)\n",
    "print(loss)"
   ]
  },
  {
   "cell_type": "code",
   "execution_count": null,
   "id": "e42fc175",
   "metadata": {},
   "outputs": [],
   "source": []
  }
 ],
 "metadata": {
  "kernelspec": {
   "display_name": "Python 3 (ipykernel)",
   "language": "python",
   "name": "python3"
  },
  "language_info": {
   "codemirror_mode": {
    "name": "ipython",
    "version": 3
   },
   "file_extension": ".py",
   "mimetype": "text/x-python",
   "name": "python",
   "nbconvert_exporter": "python",
   "pygments_lexer": "ipython3",
   "version": "3.9.13"
  }
 },
 "nbformat": 4,
 "nbformat_minor": 5
}
