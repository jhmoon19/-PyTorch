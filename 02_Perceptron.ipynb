{
 "cells": [
  {
   "cell_type": "markdown",
   "id": "hollywood-savage",
   "metadata": {},
   "source": [
    "# 퍼셉트론(Perceptron)"
   ]
  },
  {
   "cell_type": "code",
   "execution_count": 22,
   "id": "thirty-albuquerque",
   "metadata": {},
   "outputs": [],
   "source": [
    "import numpy as np\n",
    "import torch\n",
    "import matplotlib.pyplot as plt"
   ]
  },
  {
   "cell_type": "code",
   "execution_count": 16,
   "id": "worth-keyboard",
   "metadata": {},
   "outputs": [
    {
     "name": "stdout",
     "output_type": "stream",
     "text": [
      "input : [0, 0]\n",
      " - AND: False\n",
      " - NAND: True\n",
      " - OR: False\n",
      "------------------------------\n",
      "input : [0, 1]\n",
      " - AND: False\n",
      " - NAND: True\n",
      " - OR: True\n",
      "------------------------------\n",
      "input : [1, 0]\n",
      " - AND: False\n",
      " - NAND: True\n",
      " - OR: True\n",
      "------------------------------\n",
      "input : [1, 1]\n",
      " - AND: True\n",
      " - NAND: False\n",
      " - OR: True\n",
      "------------------------------\n"
     ]
    }
   ],
   "source": [
    "def STEP(z):\n",
    "    return z>0\n",
    "\n",
    "def AND(x,w,b):\n",
    "    z = torch.dot(x,w) + b\n",
    "    a = STEP(z)\n",
    "    return a\n",
    "\n",
    "def NAND(x,w,b):\n",
    "    z = torch.dot(x,w) + b\n",
    "    a = STEP(z)\n",
    "    return a\n",
    "\n",
    "def OR(x,w,b):\n",
    "    z = torch.dot(x,w) + b\n",
    "    a = STEP(z)\n",
    "    return a\n",
    "\n",
    "w_and = torch.Tensor([0.5, 0.5])\n",
    "b_and = torch.Tensor([-0.7])\n",
    "w_nand = torch.Tensor([-0.5, -0.5])\n",
    "b_nand = torch.Tensor([0.7])\n",
    "w_or = torch.Tensor([0.5, 0.5])\n",
    "b_or = torch.Tensor([-0.2])\n",
    "\n",
    "X = torch.Tensor([[0,0], [0,1], [1,0], [1,1]])\n",
    "\n",
    "for x in X:\n",
    "    print(\"input : {}\".format(x.long().tolist()))\n",
    "    print(\" - AND:\", AND(x, w_and, b_and).item())\n",
    "    print(\" - NAND:\", NAND(x, w_nand, b_nand).item())\n",
    "    print(\" - OR:\", OR(x, w_or, b_or).item())\n",
    "    print(\"--\"*15)"
   ]
  },
  {
   "cell_type": "markdown",
   "id": "ancient-tyler",
   "metadata": {},
   "source": [
    "## 다른 관점에서 퍼셉트론 이해하기"
   ]
  },
  {
   "cell_type": "markdown",
   "id": "respiratory-tuition",
   "metadata": {},
   "source": [
    "### 직관적인 그림으로 지금까지 소개한 AND, NAND, OR 게이트들을 이해해보자. 사실 이 모든 게이트들은 평면상에서 하나의 선으로 2종류의 점들을 분류하는 것과 같은 문제다. 선형 분류기라고 불리는 이유도 이같은 이유다."
   ]
  },
  {
   "cell_type": "markdown",
   "id": "working-leave",
   "metadata": {},
   "source": [
    "# XOR 문제"
   ]
  },
  {
   "cell_type": "code",
   "execution_count": 23,
   "id": "blind-parent",
   "metadata": {},
   "outputs": [
    {
     "name": "stdout",
     "output_type": "stream",
     "text": [
      "predict: [False] | target: 0\n",
      "predict: [ True] | target: 1\n",
      "predict: [ True] | target: 1\n",
      "predict: [False] | target: 0\n"
     ]
    }
   ],
   "source": [
    "def XOR():\n",
    "    \"\"\"empty function\"\"\"\n",
    "    pass\n",
    "\n",
    "def solution(x, **kwargs):\n",
    "    # 새로운 층\n",
    "    s1 = NAND(x, w=kwargs['w_nand'], b=kwargs['b_nand'])\n",
    "    s2 = OR(x, w=kwargs['w_or'], b=kwargs['b_or'])\n",
    "    # 출력 층: s1 과 s2 를 새로운 입력으로 구성하여 전달\n",
    "    y = AND(torch.Tensor([s1, s2]), w=kwargs['w_and'], b=kwargs['b_and'])\n",
    "    return y\n",
    "\n",
    "# 입력 텐서와 타겟 텐서를 생성\n",
    "input_data = torch.FloatTensor([[0, 0], [1, 0], [0, 1], [1, 1]])\n",
    "target_data = torch.ByteTensor([0, 1, 1, 0])\n",
    "\n",
    "# 이전에 사용한 가중치를 dictionary 타입으로 만든다.\n",
    "kwargs = dict([('w_nand', w_nand), ('b_nand', b_nand), \n",
    "               ('w_or', w_or), ('b_or', b_or), \n",
    "               ('w_and', w_and), ('b_and', b_and)])\n",
    "\n",
    "# 테스트\n",
    "for x, y in zip(input_data, target_data):\n",
    "    pred = solution(x, **kwargs)\n",
    "    print(\"predict: {} | target: {}\".format(pred.numpy(), y.numpy()))"
   ]
  },
  {
   "cell_type": "markdown",
   "id": "southern-softball",
   "metadata": {},
   "source": [
    "NAND와 OR의 결과 값으로 출력된 신호들로 구성된 점이 평면상에서 다른 곳으로 이동하면서 AND 함수를 거쳐 최종 출력 신호를 만들어 냈다. 이렇게 입력과 출력 사이에 층을 더하니 다른 표현을 만들어냈고, 추가로 새로운 정보가 구성되면서 원하는 출력 신호를 얻을 수 있게 된다. \n",
    "\n",
    "XOR 문제를 해결한 이러한 구조를 **다층 퍼셉트론(Multi-Layer Perceptrons, MLP)** 라고한다. 입력과 출력 사이에 추가된 중간층을 **히든 레이어(hidden layer)** 라고 한다. 기존의 퍼셉트론이 선형 분류기라는 한계에 의해 XOR 문제를 해결할 수 없었다면, 다층 퍼셉트론는 입력과 출력 사이에 하나의 층을 추가해서, 선형 분류 판별선을 여러개 그리는 효과를 얻음으로써 XOR 문제를 해결할 수 있었다. "
   ]
  }
 ],
 "metadata": {
  "kernelspec": {
   "display_name": "Python 3",
   "language": "python",
   "name": "python3"
  },
  "language_info": {
   "codemirror_mode": {
    "name": "ipython",
    "version": 3
   },
   "file_extension": ".py",
   "mimetype": "text/x-python",
   "name": "python",
   "nbconvert_exporter": "python",
   "pygments_lexer": "ipython3",
   "version": "3.9.2"
  }
 },
 "nbformat": 4,
 "nbformat_minor": 5
}
