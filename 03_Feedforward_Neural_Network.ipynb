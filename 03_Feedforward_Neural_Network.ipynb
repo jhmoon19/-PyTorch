{
 "cells": [
  {
   "cell_type": "markdown",
   "id": "213df6ec",
   "metadata": {},
   "source": [
    "# Feedforward Neural Network"
   ]
  },
  {
   "cell_type": "code",
   "execution_count": 1,
   "id": "6db712d9",
   "metadata": {},
   "outputs": [
    {
     "ename": "ModuleNotFoundError",
     "evalue": "No module named 'utils'",
     "output_type": "error",
     "traceback": [
      "\u001b[1;31m---------------------------------------------------------------------------\u001b[0m",
      "\u001b[1;31mModuleNotFoundError\u001b[0m                       Traceback (most recent call last)",
      "\u001b[1;32m~\\AppData\\Local\\Temp\\ipykernel_25832\\1700376303.py\u001b[0m in \u001b[0;36m<module>\u001b[1;34m\u001b[0m\n\u001b[0;32m      1\u001b[0m \u001b[1;32mimport\u001b[0m \u001b[0mtorch\u001b[0m\u001b[1;33m\u001b[0m\u001b[1;33m\u001b[0m\u001b[0m\n\u001b[1;32m----> 2\u001b[1;33m \u001b[1;32mfrom\u001b[0m \u001b[0mutils\u001b[0m \u001b[1;32mimport\u001b[0m \u001b[0mdraw_function\u001b[0m\u001b[1;33m\u001b[0m\u001b[1;33m\u001b[0m\u001b[0m\n\u001b[0m",
      "\u001b[1;31mModuleNotFoundError\u001b[0m: No module named 'utils'"
     ]
    }
   ],
   "source": [
    "import torch\n",
    "from utils import draw_function"
   ]
  },
  {
   "cell_type": "code",
   "execution_count": 2,
   "id": "96f869f2",
   "metadata": {},
   "outputs": [],
   "source": [
    "torch.manual_seed(70)\n",
    "x = torch.Tensor([[0,1]])\n",
    "\n",
    "\"\"\" input > hidden \"\"\"\n",
    "w1 = torch.rand((2,2))\n",
    "b1 = torch.rand((1,2))\n",
    "\n",
    "# 은닉층 forward\n",
    "z1 = torch.mm(x, w1.t()) + b1\n",
    "a1 = torch.sigmoid(z1)\n",
    "\n",
    "# 손실함수: 항등함수\n",
    "def identity_func(x):\n",
    "    return x\n",
    "\n",
    "\"\"\" hidden > input \"\"\"\n",
    "w2 = torch.rand((1,2))\n",
    "b2 = torch.rand((1,1))\n",
    "\n",
    "# 출력층 forward\n",
    "z2 = torch.mm(a1, w2.t()) + b2\n",
    "y = identity_func(z2)"
   ]
  },
  {
   "cell_type": "code",
   "execution_count": 3,
   "id": "0f79e260",
   "metadata": {},
   "outputs": [
    {
     "data": {
      "text/plain": [
       "tensor([[0., 1.]])"
      ]
     },
     "execution_count": 3,
     "metadata": {},
     "output_type": "execute_result"
    }
   ],
   "source": [
    "x"
   ]
  },
  {
   "cell_type": "code",
   "execution_count": 4,
   "id": "d5d917fc",
   "metadata": {},
   "outputs": [
    {
     "data": {
      "text/plain": [
       "tensor([[0.4350, 0.3591],\n",
       "        [0.3411, 0.2644]])"
      ]
     },
     "execution_count": 4,
     "metadata": {},
     "output_type": "execute_result"
    }
   ],
   "source": [
    "w1"
   ]
  },
  {
   "cell_type": "code",
   "execution_count": 5,
   "id": "15a72002",
   "metadata": {},
   "outputs": [
    {
     "data": {
      "text/plain": [
       "tensor([[0.6656, 0.1341]])"
      ]
     },
     "execution_count": 5,
     "metadata": {},
     "output_type": "execute_result"
    }
   ],
   "source": [
    "b1"
   ]
  },
  {
   "cell_type": "code",
   "execution_count": 6,
   "id": "33d679dd",
   "metadata": {},
   "outputs": [
    {
     "name": "stdout",
     "output_type": "stream",
     "text": [
      "-0.3213229477405548\n"
     ]
    }
   ],
   "source": [
    "import torch.nn as nn\n",
    "\n",
    "torch.manual_seed(70)\n",
    "\n",
    "# 선형결합, sigmoid 모듈 선언\n",
    "# input > hidden\n",
    "linear_ih = nn.Linear(in_features=2, out_features=2)\n",
    "# hidden > output\n",
    "linear_ho = nn.Linear(in_features=2, out_features=1)\n",
    "activation_layer = nn.Sigmoid()\n",
    "\n",
    "# forward 과정\n",
    "z1 = linear_ih(x)\n",
    "a1 = activation_layer(z1)\n",
    "z2 = linear_ho(a1)\n",
    "y = identity_func(z2)\n",
    "print(y.item())\n",
    "\n",
    "# 선형1-->활성-->선형2-->손실-->y"
   ]
  },
  {
   "cell_type": "markdown",
   "id": "ae08589b",
   "metadata": {},
   "source": [
    "## 더 자주 사용하는 PyTorch스러운 방법\n",
    "## - class객체로 사용자 정의 신경망 모듈 만들기"
   ]
  },
  {
   "cell_type": "code",
   "execution_count": 7,
   "id": "82ae0112",
   "metadata": {},
   "outputs": [
    {
     "name": "stdout",
     "output_type": "stream",
     "text": [
      "-0.3213229477405548\n"
     ]
    }
   ],
   "source": [
    "torch.manual_seed(70)\n",
    "\n",
    "class Network(nn.Module):\n",
    "    \"\"\" XOR Network \"\"\"\n",
    "    def __init__(self, input_size, hidden_size, output_size):\n",
    "        super(Network, self).__init__()\n",
    "        \n",
    "        # input > hidden\n",
    "        self.linear_ih = nn.Linear(in_features=input_size,\n",
    "                                  out_features = hidden_size)\n",
    "        \n",
    "        # hidden > output\n",
    "        self.linear_ho = nn.Linear(in_features=hidden_size,\n",
    "                                  out_features=output_size)\n",
    "        \n",
    "        # activation layer\n",
    "        self.activation_layer = nn.Sigmoid()\n",
    "        \n",
    "    def identity_func(self, x):\n",
    "        return x\n",
    "    \n",
    "    def forward(self, x):\n",
    "        z1 = self.linear_ih(x)\n",
    "        a1 = self.activation_layer(z1)\n",
    "        z2 = self.linear_ho(a1)\n",
    "        y = self.identity_func(z2)\n",
    "        return y\n",
    "    \n",
    "# 커스텀 모듈 호출\n",
    "net = Network(input_size=2, hidden_size=2, output_size=1)\n",
    "y = net(x)\n",
    "print(y.item())"
   ]
  },
  {
   "cell_type": "code",
   "execution_count": 8,
   "id": "3d261718",
   "metadata": {},
   "outputs": [
    {
     "data": {
      "text/plain": [
       "tensor([[-0.3213]], grad_fn=<AddmmBackward0>)"
      ]
     },
     "execution_count": 8,
     "metadata": {},
     "output_type": "execute_result"
    }
   ],
   "source": [
    "y"
   ]
  }
 ],
 "metadata": {
  "kernelspec": {
   "display_name": "Python 3 (ipykernel)",
   "language": "python",
   "name": "python3"
  },
  "language_info": {
   "codemirror_mode": {
    "name": "ipython",
    "version": 3
   },
   "file_extension": ".py",
   "mimetype": "text/x-python",
   "name": "python",
   "nbconvert_exporter": "python",
   "pygments_lexer": "ipython3",
   "version": "3.9.13"
  }
 },
 "nbformat": 4,
 "nbformat_minor": 5
}
